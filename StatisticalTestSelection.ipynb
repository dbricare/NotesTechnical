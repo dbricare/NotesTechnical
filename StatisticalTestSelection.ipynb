{
 "cells": [
  {
   "cell_type": "markdown",
   "metadata": {},
   "source": [
    "# Choosing the Correct Statistical Test\n",
    "\n",
    "References:<br>\n",
    "http://www.ats.ucla.edu/stat/mult_pkg/whatstat/<br>\n",
    "http://www-users.cs.umn.edu/~ludford/stat_guide.html\n",
    "\n"
   ]
  },
  {
   "cell_type": "markdown",
   "metadata": {},
   "source": [
    "___\n",
    "\n",
    "# Short answer\n",
    "\n",
    "  &nbsp; | Categorical Dependent Variable | Continuous Dependent Variable\n",
    "  ------------- | -------------\n",
    "  **Categorical<br>Independent Variable** | Chi square | t-test or ANOVA\n",
    "  **Continuous<br>Independent Variable** | LDA or QDA | Regression\n",
    "  \n",
    "____"
   ]
  },
  {
   "cell_type": "markdown",
   "metadata": {},
   "source": [
    "# Long answer"
   ]
  },
  {
   "cell_type": "markdown",
   "metadata": {},
   "source": [
    "# 0 Independent variables\n",
    "___\n",
    "\n",
    "Comparing a dataset against a hypothesized value (e.g., average age of people is 30 years old).\n",
    "\n",
    "##  1 continuous dependent variable with normal distribution\n",
    "### One sample t-test\n",
    "\n",
    "Null hypothesis is that the mean value of the dataset is equal to the test/hypothesized value ($\\mu_0$).\n",
    "$$ H_o: \\mu = \\mu_0 $$\n",
    "$$ H_A: \\mu < \\ or > \\ or \\ \\ne \\mu_0 $$\n",
    "\n",
    "The test determines if there is a statistically significant difference between $\\mu$ and $\\mu_0$. \n",
    "\n",
    "This requires calculation of the mean of the dataset ($\\bar{x}$),  the degrees of freedom dataset ($df$), the corresponding t-value and the p-value for the predetermined significance level (most commonly $\\alpha=0.05$). \n",
    "\n",
    "If the p-value calculated from the t-distribution at the given t-value is smaller than the selected signficance level (e.g., $p<0.05$) then the null hypothesis can be rejected and the alternative hypothesis is supported.\n",
    "\n",
    "Important calculations,\n",
    "\n",
    "$$ \\bar{x} = \\frac{1}{n} \\sum_{i=1}^{n} x_i \\ , \\quad df = n-1 \\ , \\quad t = \\frac{\\bar{x}-\\mu_0}{s/\\sqrt{n}} \\ , \\quad s = \\sqrt{\\frac{1}{n-1}\\sum_{i=1}^{n}(x_i-\\bar{x})^2}$$\n",
    "\n",
    "Typically, $p$ is found for a given t-distribution in a table or computer software as it requires integrating the t-distribution to find the probability from the area under the curve.\n",
    "\n",
    "If the alternative hypothesis includes $\\ne$, then a ***two-tail test*** is used where the significance level is split at the two extremes of the probability density curve. Otherwise for $<$ or $>$, a ***one-tail test*** is used where the significance level is all at the left or right side of the curve, respectively.\n",
    "\n",
    "***This test is not appropriate if the number of data points is below 30 ($n<30$) and the data is not normally distributed.*** Larger values of $n$ may be more robust against this requirement.\n",
    "\n",
    "In Python using scipy\n",
    "```\n",
    "scipy.stats.ttest_1samp(data, popmean, axis=0, nan_policy='propagate')\n",
    "```"
   ]
  },
  {
   "cell_type": "markdown",
   "metadata": {},
   "source": [
    "## 1 continuous dependent variable with normal distribution\n",
    "\n",
    "### One sample median test\n",
    "\n",
    "This test is non-parameteric (it is not fit to a specific distribution) so it doesn't have the same requirements as the t-test. Typically a ***one-sample Wilcoxon Signed Rank Test*** is used."
   ]
  },
  {
   "cell_type": "markdown",
   "metadata": {},
   "source": [
    "## 1 binary categorical dependent variable\n",
    "\n",
    "### Binomial test\n",
    "\n",
    "For $n$ trials of success/failure, returns the probability $p$ that the number of successes is not equal, greater than, or less than $k$.\n",
    "$$ H_0: n_{success} = k $$\n",
    "$$ H_A: n_{success} \\ne k $$\n",
    "\n",
    "In Python using scipy,\n",
    "```\n",
    "scipy.stats.binom_test(k, n, p, alternative=['two-sided','greater','less'])\n",
    "```\n",
    "\n",
    "For example, probability of returning $k$ heads given $n$ coin flips. Of course for a coin there are only two probabilities and each are likely to appear ($p=0.5$ for heads). The binomial test will determine if $k$ heads are likely to occur. If the null hypothesis is rejected for the pre-determined significance level, this can be interpreted as evidence that the coin is not fair."
   ]
  },
  {
   "cell_type": "markdown",
   "metadata": {},
   "source": [
    "## 1 categorical dependent variable\n",
    "\n",
    "### Chi square goodness of fit test (Pearson's)\n",
    "\n",
    "Similar to binomial test however there are more than two categories. This test will determine if the observed proportions of each category differ significantly from the hypothesized proportions.\n",
    "\n",
    "In other words, it tests a null hypothesis stating that the frequency distribution of certain events observed in a sample is consistent with a particular theoretical distribution. The events (or categories) must be mutually exclusive and have total probability 1. \n",
    "\n",
    "A simple example is testing the outcome from a six-sided die to determine if the die is fair (all 6 outcomes equally likely to occur).\n",
    "\n",
    "This assumes the categories are independent and identically distributed (*iid*) with the normal distribution, i.e., unpaired.\n",
    "\n",
    "Here the test statistic $\\chi^2$ follows the chi-squared distribution (*from wikipedia*):\n",
    "<img src=\"https://upload.wikimedia.org/wikipedia/commons/8/8e/Chi-square_distributionCDF-English.png\" width=\"350\">\n",
    "\n",
    "#### Procedure\n",
    "1. Calculate the test statistic $\\chi^2$\n",
    "$$ \\chi^2 = \\sum_{i=1}^{n} \\frac{(O_i - E_i)^2}{E_i} $$\n",
    "1. Determine the degrees of freedom $df = n-p$ where $n$ is the number of outcomes/categories and $p=s+1$ where $s$ is the number of parameters in the distribution (s=2 for normal, mean and standard deviation; s=0 for discrete uniform, no parameters)\n",
    "1. Select a significance level $\\alpha$ ($\\alpha = 0.05$ typically)\n",
    "1. Compare calculated $\\chi^2$ with its critical value from the chi-squared distribution with the appropriate $df$ (one sided since only check if $\\chi^2$ is greater than critical)\n",
    "1. Accept or reject the null hypothesis that the observed frequency distribution is different from the theoretical distribution based on whether the test statistic exceeds the critical value of $\\chi^2$ ***or*** report the corresponding p-value and compare with pre-determined significance.\n",
    "\n",
    "In python using scipy,\n",
    "```\n",
    "scipy.stats.chisquare(f_obs, f_exp=None, ddof=0, axis=0)\n",
    "```\n",
    "This returns the calculated chi-square and the corresponding p-value which can be compared with the desired significance. The default value for this test assumes all expected probabilities are equally likely (come from a discrete uniform distribution).\n",
    "\n",
    "A rule of thumb states that there must be at least 5 values for each category for this test to be valid.\n",
    "\n",
    "A good example can be found at: https://en.wikipedia.org/wiki/Pearson%27s_chi-squared_test#Examples."
   ]
  },
  {
   "cell_type": "markdown",
   "metadata": {},
   "source": [
    "# 1 Independent binary categorical variable\n",
    "___\n",
    "Comparing two samples such as in an experiment, control vs. treatment groups or male vs. female.\n",
    "\n",
    "## 1 continuous dependent variable with normal distribution\n",
    "\n",
    "### Two sample t-test\n",
    "\n",
    "This t-test assesses whether the means of two groups/categories of data are statistically different.\n",
    "\n",
    "It is very similar to the one-sample t-test with a few exceptions:\n",
    "1. The t-statistic is calculed from,\n",
    "$$ t = \\frac{\\bar{x}_1-\\bar{x}_2}{\\sqrt{\\frac{s_1^2}{n_1} + \\frac{s_2^2}{n_2}}} $$\n",
    "\n",
    "1. And the degrees of freedom are,\n",
    "$$ df = \\frac{(s_1^2/n_1 + s_2^2/n_2)^2}{(s_1^2/n_1)^2/(n_1-1) + (s_2^2/n_2)^2/(n_2-1)} $$\n",
    "\n",
    "The calculation for the t-statistic is appropriate for equal or unequal sample sizes and unequal variances between the two independent categories. This variation is known as ***Welch's t-test***.\n",
    "\n",
    "For ***paired samples*** (e.g., experiments looking at before/after treatment values to find a statistically significant difference), the t-test is calculated from,\n",
    "$$ t = \\frac{\\bar{x}_D - \\mu_0}{s_D / \\sqrt{n}} $$\n",
    "\n",
    "where the $D$ subscript represents the difference between pairs, so the mean and standard deviation are calculated from the paired differences and not the measured values. Here the degrees of freedom is the same as the one-sample t-test $df = n-1$.\n",
    "\n",
    "The paired test can help reduce the influence of confounding variables. For an explanation see wikipedia: https://en.wikipedia.org/wiki/Paired_difference_test#Use_in_reducing_confounding."
   ]
  },
  {
   "cell_type": "code",
   "execution_count": null,
   "metadata": {
    "collapsed": true
   },
   "outputs": [],
   "source": []
  }
 ],
 "metadata": {
  "kernelspec": {
   "display_name": "Python 3",
   "language": "python",
   "name": "python3"
  },
  "language_info": {
   "codemirror_mode": {
    "name": "ipython",
    "version": 3
   },
   "file_extension": ".py",
   "mimetype": "text/x-python",
   "name": "python",
   "nbconvert_exporter": "python",
   "pygments_lexer": "ipython3",
   "version": "3.5.1"
  }
 },
 "nbformat": 4,
 "nbformat_minor": 0
}
