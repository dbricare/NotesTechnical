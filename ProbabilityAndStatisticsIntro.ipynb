{
 "cells": [
  {
   "cell_type": "markdown",
   "metadata": {},
   "source": [
    "# Introduction to Probability and Statistics\n",
    "\n",
    "[http://ocw.mit.edu/courses/mathematics/18-05-introduction-to-probability-and-statistics-spring-2014/index.htm](http://ocw.mit.edu/courses/mathematics/18-05-introduction-to-probability-and-statistics-spring-2014/index.htm)\n",
    "\n",
    "### Contents\n",
    "1. [Counting and sets](#cnt)\n",
    "1. [Probability](#prob)\n",
    "1. [Conditional probability](#cond)\n",
    "1. [Discrete random variables](#disc)\n",
    "1. [Continuous random variables](#cont)\n",
    "1. [Central Limit Theorem and Law of Large numbers](#clt)\n",
    "1. [Statistics](#stats)\n",
    "\n",
    "<br>\n",
    "\n",
    "# Statistical Thinking and Data Analysis\n",
    "\n",
    "[http://ocw.mit.edu/courses/sloan-school-of-management/15-075j-statistical-thinking-and-data-analysis-fall-2011/lecture-notes/](http://ocw.mit.edu/courses/sloan-school-of-management/15-075j-statistical-thinking-and-data-analysis-fall-2011/lecture-notes/)\n",
    "\n",
    "### Contents\n",
    "1. [Statistical power](#pwr)\n",
    "___"
   ]
  },
  {
   "cell_type": "markdown",
   "metadata": {},
   "source": [
    "<a id=\"cnt\"></a>"
   ]
  },
  {
   "cell_type": "markdown",
   "metadata": {},
   "source": [
    "# 1. Counting and sets"
   ]
  },
  {
   "cell_type": "markdown",
   "metadata": {},
   "source": [
    "## Notes"
   ]
  },
  {
   "cell_type": "markdown",
   "metadata": {},
   "source": [
    "A **set** S is a collection of elements. It is denoted by $S=\\{\\}$.<br>\n",
    "**Element** $x \\in S$: the element x is in the set S.<br>\n",
    "**Subset** $A \\subset S$: the set A is a subset of S if all of its elements are in S.<br>\n",
    "**Complement** $A^{c}$ or S − A: The complement of A in S is the set of elements of S\n",
    "that are not in A.<br>\n",
    "**Union** $A \\cup B$: the union of A and B is the set of all elements in A or B (or both).<br>\n",
    "**Intersection** $A \\cap B$: the intersection of A and B is the set of all elements in both A\n",
    "and B.<br>\n",
    "**Empty set** $\\emptyset$: the empty set is the set with no elements.<br>\n",
    "**Disjoint**: A and B are disjoint if they have no common elements. That is, if\n",
    "$A \\cap B = \\emptyset$.<br>\n",
    "**Difference** $A − B$: the difference of A and B is the set of elements in A that are not\n",
    "in B.\n",
    "\n",
    "<img src=\"images/sets.png\">"
   ]
  },
  {
   "cell_type": "markdown",
   "metadata": {},
   "source": [
    "#### DeMorgan's Laws\n",
    "\n",
    "$(A \\cup B)^{c} = A^{c} \\cap B^{c}$\n",
    "\n",
    "$(A \\cap B)^{c} = A^{c} \\cup B^{c}$"
   ]
  },
  {
   "cell_type": "markdown",
   "metadata": {},
   "source": [
    "#### Inclusion-exclusion principle\n",
    "The number of elements in the union of A and B is the number of elements each in A and B minus the number of elements in the intersection of A and B.\n",
    "\n",
    "$$|A \\cup B| = |A| + |B| - |A \\cap B|$$"
   ]
  },
  {
   "cell_type": "markdown",
   "metadata": {},
   "source": [
    "#### Rule of Product or Multiplication Rule\n",
    "If there are $n$ ways to perform action 1 and $m$ ways to perform action 2, then there are $n \\cdot m$ ways to perform action 1 followed by action 2."
   ]
  },
  {
   "cell_type": "markdown",
   "metadata": {},
   "source": [
    "## Permutations and combinations\n",
    "Number of **permutations** (lists) of $k$ distinct elements in a list of size $n$: $\\dfrac{n!}{(n-k)!}$<br>\n",
    "\n",
    "Number of **permuations** *with replacement* with $n$ elements and $k$ samples: $n^k$.\n",
    "\n",
    "Number of **combinations** (subsets) of $k$ elements from a set of size $n$: $\\dfrac{n!}{k!(n-k)!}$ or $n\\choose{k}$\n",
    "\n",
    "Number of **combinations** *with replacement* of $n$ items with $k$ samples: $n+k-1\\choose{k}$"
   ]
  },
  {
   "cell_type": "markdown",
   "metadata": {},
   "source": [
    "## Problems"
   ]
  },
  {
   "cell_type": "markdown",
   "metadata": {},
   "source": [
    "___\n",
    "**Example 10.** \n",
    "\n",
    "(i) Count the number of ways to get 3 heads in a sequence of 10 flips\n",
    "of a coin.\n",
    "\n",
    "(ii) If the coin is fair, what is the probability of exactly 3 heads in 10 flips.\n",
    "___"
   ]
  },
  {
   "cell_type": "markdown",
   "metadata": {},
   "source": [
    "Number of ways to get exactly three heads is a combination of 3 heads from 10 flips.\n",
    "\n",
    "Probability to get exactly three heads comes from *binomial theorem*:\n",
    "\n",
    "$P = {{n}\\choose{k}}p^k q^{n-k}$"
   ]
  },
  {
   "cell_type": "code",
   "execution_count": 7,
   "metadata": {
    "collapsed": false
   },
   "outputs": [
    {
     "name": "stdout",
     "output_type": "stream",
     "text": [
      "(i) number of ways: 120\n",
      "(ii) probability of 3 heads: 0.1171875\n"
     ]
    }
   ],
   "source": [
    "import math\n",
    "n = 10\n",
    "k = 3\n",
    "p = 0.5\n",
    "\n",
    "num = int(math.factorial(n)/(math.factorial(k)*math.factorial(n-k)))\n",
    "P = num*(p**k)*(1-p)**(n-k)\n",
    "\n",
    "print('(i) number of ways:',num)\n",
    "print('(ii) probability of 3 heads:',P)"
   ]
  },
  {
   "cell_type": "markdown",
   "metadata": {},
   "source": [
    "___\n",
    "**Reading question 1**. How many ways can you choose 4 kittens from a litter of 9?\n",
    "___"
   ]
  },
  {
   "cell_type": "code",
   "execution_count": 8,
   "metadata": {
    "collapsed": false
   },
   "outputs": [
    {
     "name": "stdout",
     "output_type": "stream",
     "text": [
      "126\n"
     ]
    }
   ],
   "source": [
    "n = 9\n",
    "k = 4\n",
    "num = int(math.factorial(n)/(math.factorial(k)*math.factorial(n-k)))\n",
    "print(num)"
   ]
  },
  {
   "cell_type": "markdown",
   "metadata": {},
   "source": [
    "___\n",
    "**Reading question 2**. How many sequences of 8 nucleotides can be made using any of the 4 nucleotides A, C, G, T at each place of the sequence?\n",
    "___"
   ]
  },
  {
   "cell_type": "code",
   "execution_count": 9,
   "metadata": {
    "collapsed": false
   },
   "outputs": [
    {
     "data": {
      "text/plain": [
       "65536"
      ]
     },
     "execution_count": 9,
     "metadata": {},
     "output_type": "execute_result"
    }
   ],
   "source": [
    "4**8"
   ]
  },
  {
   "cell_type": "markdown",
   "metadata": {},
   "source": [
    "___\n",
    "**Reading question 3**. Suppose a sequence of 8 nucleotides contains 2 each of A, C, G, T.\n",
    "How many such sequences are there? \n",
    "___"
   ]
  },
  {
   "cell_type": "code",
   "execution_count": 56,
   "metadata": {
    "collapsed": false
   },
   "outputs": [
    {
     "name": "stdout",
     "output_type": "stream",
     "text": [
      "answer: 2520\n"
     ]
    }
   ],
   "source": [
    "# Equivalent to number of permutations of AACCGGTT where repeat elements are indistinguishable\n",
    "# If not indistinguishable\n",
    "n = 8\n",
    "perm = math.factorial(n)\n",
    "# print(perm)\n",
    "# For each permutation, each letter(4) can be swapped with its partner and the result is the same.\n",
    "# Swap AA gives 2 possibilities, same for CC, GG, TT so this is 2*2*2*2 that are the same.\n",
    "# These must be divided from the total permutations, so:\n",
    "print('answer:', perm//(2**4))\n",
    "\n",
    "# using python to find the answer:\n",
    "# import itertools\n",
    "# print(len(set(itertools.permutations('AACCGGTT',8))))"
   ]
  },
  {
   "cell_type": "markdown",
   "metadata": {},
   "source": [
    "<a id=\"prob\"></a>"
   ]
  },
  {
   "cell_type": "markdown",
   "metadata": {},
   "source": [
    "# 2. Probability: terminology and examples"
   ]
  },
  {
   "cell_type": "markdown",
   "metadata": {},
   "source": [
    "## Notes"
   ]
  },
  {
   "cell_type": "markdown",
   "metadata": {},
   "source": [
    "- **Experiment**: a repeatable procedure with well-defined possible outcomes.\n",
    "- **Sample space**: the set of all possible outcomes. We usually denote the sample space by Ω, sometimes by S.\n",
    "- **Event**: a subset of the sample space.\n",
    "- **Probability function**: a function giving the probability for each outcome."
   ]
  },
  {
   "cell_type": "markdown",
   "metadata": {},
   "source": [
    "Counting the number of events that occur during a specified time interval is given by the ***Poisson distribution***,<br>\n",
    "$$P(k) = e^{-\\lambda}\\dfrac{\\lambda^{k}}{k!}$$\n",
    "where,<br>\n",
    "$$\\sum_{k=0}^{\\infty}e^{-\\lambda}\\dfrac{\\lambda^{k}}{k!} = 1$$"
   ]
  },
  {
   "cell_type": "markdown",
   "metadata": {},
   "source": [
    "A **discrete sample space** is one that is listable, it can be either finite or infinite.\n",
    "\n",
    "For a discrete sample space $S$, a *probability function P* assigns to each outcome $\\omega$ a number $P(\\omega)$ called the probability of $\\omega$ that must satisfy two rules: (1) all probabilities must be between 0 and 1 and (2) the sum of the probabilities of all possible outcomes is 1.\n",
    "\n",
    "The probability of an event $E$ is given by,\n",
    "$$P(E) = \\sum_{\\omega \\in E}P(\\omega)$$\n",
    "Probabilities of events within a sample space also satisfy the *inclusion-exclusion principle*. "
   ]
  },
  {
   "cell_type": "markdown",
   "metadata": {},
   "source": [
    "## Problems"
   ]
  },
  {
   "cell_type": "markdown",
   "metadata": {},
   "source": [
    "___\n",
    "**Example 10.**\n",
    "\n",
    "Let A, B and C be the events: X is a multiple of 2, 3 and 6 respectively. If\n",
    "P(A) = .6, P(B) = .3 and P(C) = .2 what is P(A or B)?\n",
    "___"
   ]
  },
  {
   "cell_type": "markdown",
   "metadata": {},
   "source": [
    "$P(A \\lor B)$ is equivalent to $P(A\\cup B)$ so the answer depends on if $A$ and $B$ are disjoint. \n",
    "\n",
    "Here, if $A$ occurs and $B$ also occurs, then this equivalent to event $C$, so $P(C) = P(A \\cap B)$.\n",
    "\n",
    "$P(A \\cup B) = P(A) + P(B) - P(A \\cap B) = 0.6 + 0.3 - 0.2 = 0.7$"
   ]
  },
  {
   "cell_type": "markdown",
   "metadata": {},
   "source": [
    "<a id=\"cond\"></a>"
   ]
  },
  {
   "cell_type": "markdown",
   "metadata": {},
   "source": [
    "# 3. Conditional probability"
   ]
  },
  {
   "cell_type": "markdown",
   "metadata": {},
   "source": [
    "## Notes"
   ]
  },
  {
   "cell_type": "markdown",
   "metadata": {},
   "source": [
    "*Conditional probability* answers the question 'how does the probability of an even change if we have extra information?' The conditional probability of event $A$ knowing that event $B$ occured is written $P(A|B)$ and is read as 'the conditional probability of A given B'.\n",
    "\n",
    "If $P(A)$ is the proportion of the whole sample that is taken up by $A$, then $P(A|B)$ is the proportion of $B$ taken up by $A$, i.e., $P(A \\cap B)/P(B)$.\n",
    "\n",
    "$$P(A|B) = \\dfrac{P(A \\cap B)}{P(B)}$$\n",
    "\n",
    "<img src=\"images/condprob.png\" width=\"500\">"
   ]
  },
  {
   "cell_type": "markdown",
   "metadata": {},
   "source": [
    "### Law of total probability\n",
    "Suppose the sample space $\\omega$ is divided into 3 disjoint events, $B_{1}$, $B_{2}$, $B_{3}$. The for any event $A$: <br><br>\n",
    "$$P(A) = P(A \\cap B_{1}) + P(A \\cap B_{2}) + P(A \\cap B_{3})$$ <br>\n",
    "$$P(A) = P(A|B_{1})P(B_{1}) + P(A|B_{2})P(B_{2}) + P(A|B_{3})P(B_{3})$$\n",
    "\n",
    "<img src=\"images/totprob.png\" width=\"200\">"
   ]
  },
  {
   "cell_type": "markdown",
   "metadata": {},
   "source": [
    "### Independence\n",
    "$A$ is independent of $B$ &nbsp; if &nbsp; $P(A|B) = P(A)$<br>\n",
    "or if,<br>\n",
    "$P(A \\cap B) = P(A) \\cdot P(B)$"
   ]
  },
  {
   "cell_type": "markdown",
   "metadata": {},
   "source": [
    "### Bayes Theorem\n",
    "For two events $A$ and $B$,\n",
    "$$P(B|A) = \\dfrac{P(A|B) \\cdot P(B)}{P(A)}$$<br>\n",
    "Bayes rule tells us how to invert probabilities, to find $P(B|A)$ from $P(A|B)$. In practice, $P(A)$ is often computed using the law of total probability. *Statistical inference* involves deciding how to proceed when one (or more) of the terms on the right side of Bayes rule is unknown."
   ]
  },
  {
   "cell_type": "markdown",
   "metadata": {},
   "source": [
    "### Probability trees\n",
    "\n",
    "A tree diagram can represent a **probability space**. The probability space contains 3 things: \n",
    "1. A sample space, $\\Omega$, which is the set of all possible outcomes.\n",
    "1. A set of events $\\mathcal{F}$, where each event is a set containing zero or more outcomes.\n",
    "1. The assignment of probabilities to the events; that is, a function $P$ from events to probabilities.\n",
    "\n",
    "<img src=\"https://upload.wikimedia.org/wikipedia/commons/thumb/9/9c/Probability_tree_diagram.svg/500px-Probability_tree_diagram.svg.png\" width=\"300\">"
   ]
  },
  {
   "cell_type": "markdown",
   "metadata": {},
   "source": [
    "## Problems"
   ]
  },
  {
   "cell_type": "markdown",
   "metadata": {},
   "source": [
    "___\n",
    "**Example 2**. What is the probability of the second card drawn from a 52 card deck is a spade given that the first one is a spade?\n",
    "___"
   ]
  },
  {
   "cell_type": "markdown",
   "metadata": {},
   "source": [
    "Conditional probability: $P(A|B) = \\dfrac{P(A \\cap B)}{P(B)}$\n",
    "<br><br>\n",
    "\n",
    "Need to compute $P(S_{1})$,  $P(S_{2})$, $P(S_{1} \\cap S_{2})$ to find $P(S_{2}|S_{1})$.\n",
    "\n",
    "Probability of drawing a spade,\n",
    "$P(S_{1}) = 13/52$, $P(S_{2}) = 13/52$.\n",
    "\n",
    "The intersection is calculated from the number of ways to draw a spade for the first card and second card, divided by the number of ways to draw any card as the first then second,\n",
    "\n",
    "$P(S_{1} \\cap S_{2}) = \\frac{13 \\times 12}{52 \\times 51} = 3/51$\n",
    "\n",
    "So the conditional probability is,\n",
    "$P(S_{2}|S_{1}) = \\dfrac{P(S_{1} \\cap S_{2})}{P(S_{2})} = \\dfrac{3/51}{1/4} = 12/51$"
   ]
  },
  {
   "cell_type": "markdown",
   "metadata": {},
   "source": [
    "___\n",
    "**Example 3**. An urn contains 5 red balls and 2 green balls. Two balls are drawn one after\n",
    "the other. What is the probability that the second ball is red?\n",
    "___"
   ]
  },
  {
   "cell_type": "markdown",
   "metadata": {},
   "source": [
    "Sample space: $\\{RR, RG, GR, GG\\}$\n",
    "Partition sample space into R1, G1, for R2,\n",
    "\n",
    "$P(R_{2}|R_{1}) = 4/6$ &nbsp; and &nbsp; $P(R_{2}|G_{1}) = 5/6$\n",
    "\n",
    "So from the law of total probability,\n",
    "$P(R_{2}) = P(R_{2}|R_{1})P(R_{1}) + P(R_{2}|G_{1})P(G_{1}) = (4/6)(5/7) + (5/6)(2/7) = 5/7$\n"
   ]
  },
  {
   "cell_type": "markdown",
   "metadata": {},
   "source": [
    "___\n",
    "**Example 4**. An urn contains 5 red balls and 2 green balls. A ball is drawn. If it’s green\n",
    "a red ball is added to the urn and if it’s red a green ball is added to the urn. (The original\n",
    "ball is not returned to the urn.) Then a second ball is drawn. What is the probability the\n",
    "second ball is red?\n",
    "___"
   ]
  },
  {
   "cell_type": "markdown",
   "metadata": {},
   "source": [
    "From the law of total probability,\n",
    "\n",
    "$P(R_{2}) = P(R_{2}|R_{1})P(R_{1}) + P(R_{2}|G_{1})P(G_{1}) = (4/7)(5/7) + (6/7)(2/7) = 32/49$"
   ]
  },
  {
   "cell_type": "markdown",
   "metadata": {},
   "source": [
    "___\n",
    "**Example 10**. *The Base Rate Fallacy*\n",
    "\n",
    "Consider a routine screening test for a disease. Suppose the frequency of the disease in the population (base rate) is 0.5%. The test is highly accurate with a 5% false positive rate and a 10% false negative rate.\n",
    "\n",
    "You take the test and it comes back positive. What is the probability that you have the disease?\n",
    " \n",
    "___"
   ]
  },
  {
   "cell_type": "markdown",
   "metadata": {},
   "source": [
    "$D+ =$ you have disease\n",
    "\n",
    "$D- =$ you don't have disease\n",
    "\n",
    "$T+ =$ you tested positive\n",
    "\n",
    "$T- =$ you tested negative\n",
    "<br><br>\n",
    "\n",
    "And,\n",
    "\n",
    "$P(D+) = 0.005$ &nbsp; and &nbsp; $P(D-) = 0.995$\n",
    "\n",
    "False positives and false negatives,\n",
    "\n",
    "$P(T+|D-)=0.05$ &nbsp; and &nbsp; $P(T-|D+)=0.10$\n",
    "\n",
    "True negative (complement of false positive) and true positive (complement of false negative),\n",
    "\n",
    "$P(T-|D-)=0.95$ &nbsp; and &nbsp; $P(T+|D+)=0.90$\n",
    "\n",
    "Want to find probability of having disease given test results indicate positive,\n",
    "\n",
    "$P(D+|T+) = \\dfrac{P(T+|D+) \\cdot P(D+)}{P(T+)}$\n",
    "\n",
    "Use law of total probability to determine denominator,\n",
    "\n",
    "$P(T+) = P(T+|D+)P(D+) + P(T+|D-)P(D-)$\n",
    "\n",
    "The final result is,\n",
    "\n",
    "$P(D+|T+) = \\dfrac{P(T+|D+) \\cdot P(D+)}{P(T+|D+)P(D+) + P(T+|D-)P(D-)}$"
   ]
  },
  {
   "cell_type": "code",
   "execution_count": 58,
   "metadata": {
    "collapsed": false
   },
   "outputs": [
    {
     "data": {
      "text/plain": [
       "0.08294930875576037"
      ]
     },
     "execution_count": 58,
     "metadata": {},
     "output_type": "execute_result"
    }
   ],
   "source": [
    "(0.90*0.005) / (0.90*0.005+0.05*0.995)"
   ]
  },
  {
   "cell_type": "markdown",
   "metadata": {},
   "source": [
    "____\n",
    "**Reading Problem 1.** You roll two dice. Consider the following events. \n",
    "\n",
    "A = 'first die is 3'<br>\n",
    "B = 'sum is 7' <br>\n",
    "C = 'sum is greater than or equal to 7'\n",
    "\n",
    "*(a) Compute P(B).<br>\n",
    "(b) Compute P(B|A).<br>\n",
    "(c) Compute P(B|C).<br>\n",
    "(d) Are A and B indepenendent.<br>\n",
    "(e) Are B and C indepenendent.*\n",
    "___"
   ]
  },
  {
   "cell_type": "code",
   "execution_count": 60,
   "metadata": {
    "collapsed": false
   },
   "outputs": [
    {
     "data": {
      "text/plain": [
       "0.16666666666666666"
      ]
     },
     "execution_count": 60,
     "metadata": {},
     "output_type": "execute_result"
    }
   ],
   "source": [
    "# compute P(B), 6 out of 36 combinations sum to 7\n",
    "1/6"
   ]
  },
  {
   "cell_type": "code",
   "execution_count": 62,
   "metadata": {
    "collapsed": false
   },
   "outputs": [
    {
     "data": {
      "text/plain": [
       "0.16666666666666666"
      ]
     },
     "execution_count": 62,
     "metadata": {},
     "output_type": "execute_result"
    }
   ],
   "source": [
    "# compute P(B|A) = P(A intersect B) / P(A)\n",
    "# P(A) = 1/6\n",
    "# for P(A intersect B), how many of 36 possible outcomes have first die 3 and sum of dice 7? One, D1=3 and D2=4\n",
    "(1/36)/(1/6)"
   ]
  },
  {
   "cell_type": "code",
   "execution_count": 65,
   "metadata": {
    "collapsed": false
   },
   "outputs": [
    {
     "data": {
      "text/plain": [
       "0.2857142857142857"
      ]
     },
     "execution_count": 65,
     "metadata": {},
     "output_type": "execute_result"
    }
   ],
   "source": [
    "# compute P(B|C) = P(B intersect C) / P(C)\n",
    "# P(C) = 21/36\n",
    "# for P(B intersect C), how many of 36 outcomes have sum of dice 7, and sum of dice >= 7? \n",
    "# the 6 outcomes which have D1+D2=7\n",
    "(1/6)/(21/36)"
   ]
  },
  {
   "cell_type": "code",
   "execution_count": 66,
   "metadata": {
    "collapsed": true
   },
   "outputs": [],
   "source": [
    "# independent if P(B|A)=P(B) and independent if P(B|C)=P(B)"
   ]
  },
  {
   "cell_type": "markdown",
   "metadata": {},
   "source": [
    "___\n",
    "**Reading Problem 2.**<br>\n",
    "Draw two cards from a deck.<br>\n",
    "Let $S1$ = first card is a spade.<br>\n",
    "Let $S2$ = second card is a spade.<br>\n",
    "What is $P(S2|S1^{c})$?\n",
    "___"
   ]
  },
  {
   "cell_type": "markdown",
   "metadata": {},
   "source": [
    "Calculate from,\n",
    "\n",
    "$P(S2|S1^{c}) = \\dfrac{P(S1^c \\cap S2)}{P(S1^{c})}$\n",
    "\n",
    "If both cards are spades,\n",
    "\n",
    "$P(S1 \\cap S2) = \\frac{13 \\times 12}{52 \\times 51} = 3/51$\n",
    "\n",
    "So for the complement of the first card (not a spade),\n",
    "\n",
    "$P(S1^{c} \\cap S2) = \\frac{(52-13) \\times 13}{52 \\times 51}$ &nbsp; and &nbsp; $P(S1^{c}) = \\frac{52-13}{52}$"
   ]
  },
  {
   "cell_type": "code",
   "execution_count": 82,
   "metadata": {
    "collapsed": false
   },
   "outputs": [
    {
     "data": {
      "text/plain": [
       "0.2549019607843137"
      ]
     },
     "execution_count": 82,
     "metadata": {},
     "output_type": "execute_result"
    }
   ],
   "source": [
    "# and\n",
    "((52-13)*13/(52*51))/((52-13)/52)"
   ]
  },
  {
   "cell_type": "markdown",
   "metadata": {
    "collapsed": true
   },
   "source": [
    "___\n",
    "**Reading Problem 3.** Start with an urn with 5 red and 3 blue balls in it. Draw one ball. Put that ball back in the urn along with another ball of the same color. Now draw another ball from the urn.<br>\n",
    "(a) What is the probability the second ball is red?<br>\n",
    "(b) Suppose the second ball is red. What is the probability the first ball was blue?\n",
    "___"
   ]
  },
  {
   "cell_type": "markdown",
   "metadata": {},
   "source": [
    "(a) From the law of total probability,\n",
    "\n",
    "$P(R_{2}) = P(R_{2}|R_{1})P(R_{1}) + P(R_{2}|B_{1})P(B_{1}) = (6/9)(5/8) + (5/9)(3/8) = 45/72 = 15/24$"
   ]
  },
  {
   "cell_type": "code",
   "execution_count": 4,
   "metadata": {
    "collapsed": false
   },
   "outputs": [
    {
     "data": {
      "text/plain": [
       "0.625"
      ]
     },
     "execution_count": 4,
     "metadata": {},
     "output_type": "execute_result"
    }
   ],
   "source": [
    "15/24"
   ]
  },
  {
   "cell_type": "markdown",
   "metadata": {},
   "source": [
    "(b) Use Bayes theorem to find $ P(B_{1}|R_{2}) $,\n",
    "\n",
    "$P(R_{2}|B_{1}) = \\dfrac{P(B_{1}|R_{2}) \\cdot P(R_{2})}{P(B_{1})}$"
   ]
  },
  {
   "cell_type": "markdown",
   "metadata": {},
   "source": [
    "$P(B_{1}|R_{2}) = \\dfrac{P(R_{2}|B_{1}) \\cdot P(B_{1})}{P(R_{2})} = \\dfrac{5/9 \\cdot 3/8}{15/24}$\n",
    "$ = \\dfrac{15}{72} \\cdot \\dfrac{24}{15} = \\dfrac{24}{72} = 1/3$"
   ]
  },
  {
   "cell_type": "markdown",
   "metadata": {},
   "source": [
    "<a id=\"disc\"></a>"
   ]
  },
  {
   "cell_type": "markdown",
   "metadata": {},
   "source": [
    "# 4a. Discrete random variables"
   ]
  },
  {
   "cell_type": "markdown",
   "metadata": {},
   "source": [
    "## Notes"
   ]
  },
  {
   "cell_type": "markdown",
   "metadata": {},
   "source": [
    "A random variable assigns a number to each outcome in a sample space. A ***discrete random variable*** is a function that takes a discrete set of values and returns a value. It is random because its value depends on a random outcome of an experiment.\n",
    "\n",
    "For any value $a$ we write $X = a$ to mean the *event* consisting of all outcomes $\\omega$ with $X(\\omega) = a$. \n",
    "\n",
    "The ***probability mass function*** of the event $X=a$ is $P(X=a)$ often written $p(a)$.\n",
    "\n",
    "Events can also be described by *inequalities* for example, $X \\leq a$ is the set of all outcomes $\\omega$ such that $X(\\omega) \\leq a$.\n",
    "\n",
    "The ***cumulative distribution function*** of a random variable $X$ is the given by $F(a) = P(X \\leq a)$."
   ]
  },
  {
   "cell_type": "markdown",
   "metadata": {},
   "source": [
    "### Bernoulli distribution\n",
    "The Bernoulli distribution ***models one trial in an experiment that can result in either success or failure***. \n",
    "\n",
    "A random variable $X$ has a Bernoulli distribution if:\n",
    "1. $X$ takes the values 0 or 1.\n",
    "1. $P(X=1) = p$ and $P(X=0) = 1-p$\n",
    "\n",
    "$X$ ~ $Ber(p)$ is read 'X follows a Bernoulli distribution with parameter $p$'. Many decisions can be modeled as a binary choice such as flipping a coin."
   ]
  },
  {
   "cell_type": "markdown",
   "metadata": {},
   "source": [
    "### Binomial distribution\n",
    "The binomial distribution $X$~$Bin(n,p)$ ***models the number of successes in $n$ independent Ber(p) trials***. \n",
    "\n",
    "The probability mass function for $k$ successes in $n$ trials is,\n",
    "$$p(a) = {{n}\\choose{k}} p^{k} (1-p)^{n-k}$$\n",
    "\n",
    "For example, the probability of having 2 heads out of 5 coin flips is,\n",
    "$$p = {{5}\\choose{2}} (1/2)^{2} (1-1/2)^{5-2} = (20/2)(1/2)^{2}(1/2)^{3} = 10 \\cdot \\frac{1}{32} = \\frac{5}{16}$$"
   ]
  },
  {
   "cell_type": "markdown",
   "metadata": {},
   "source": [
    "### Geometric distribution\n",
    "Assuming success has a probability of occurring $p$, the geometric distribution $geo(p)$ ***describes the number of failures before a success occurs***. It is a discrete distribution that takes an infinite number of values.\n",
    "\n",
    "The probability mass function is given by,\n",
    "$$p(k) = P(X=k) = (1-p)^{k}p$$\n",
    "where the random variable $X$ is equal to the number of trials in the experiment $k$, $X=k$.\n",
    "\n",
    "For example, the probability of obtaining 3 tails before 1 head when flipping a coin is,\n",
    "$$p = (1-1/2)^{k}(1/2) = (1/2)^{3}(1/2) = \\frac{1}{16}$$"
   ]
  },
  {
   "cell_type": "markdown",
   "metadata": {},
   "source": [
    "### Uniform distribution\n",
    "The uniform distribution models any situation where all outcomes are equally likely, $X~uniform(N)$. Here $X$ takes values $1,2,3,...,N$ each with probability $1/N$."
   ]
  },
  {
   "cell_type": "markdown",
   "metadata": {},
   "source": [
    "## Problems"
   ]
  },
  {
   "cell_type": "markdown",
   "metadata": {},
   "source": [
    "___\n",
    "**Reading Problem 2.** Suppose X ~ binomial(6, 0.5). What is P(X=3)?\n",
    "___"
   ]
  },
  {
   "cell_type": "code",
   "execution_count": 6,
   "metadata": {
    "collapsed": false
   },
   "outputs": [
    {
     "data": {
      "text/plain": [
       "0.3125"
      ]
     },
     "execution_count": 6,
     "metadata": {},
     "output_type": "execute_result"
    }
   ],
   "source": [
    "import math\n",
    "\n",
    "n = 6\n",
    "k = 3\n",
    "p = 0.5\n",
    "\n",
    "choose = int(math.factorial(n)/(math.factorial(k)*math.factorial(n-k)))\n",
    "P = choose*(p**k)*(1-p)**(n-k)\n",
    "P"
   ]
  },
  {
   "cell_type": "markdown",
   "metadata": {},
   "source": [
    "# 4b. Discrete random variables: expected value"
   ]
  },
  {
   "cell_type": "markdown",
   "metadata": {},
   "source": [
    "## Notes"
   ]
  },
  {
   "cell_type": "markdown",
   "metadata": {},
   "source": [
    "**Expected value**<br>\n",
    "If $X$ is a random value with values $x_{1}, x_{2}, ..., x_{n}$ each with nonzero probabilities $p_{1}, p_{2}, ..., p_{n}$, then the *expected value* of $X$ is,\n",
    "$$E(X) = \\sum_{j=1}^{n} p(x_{j})x_{j} = p(x_{1})x_{1}+p(x_{2})x_{2}+...+p(x_{n})x_{n}$$\n",
    "<br>\n",
    "For a *Bernoulli variable*, $E(X) = p \\cdot 1 + (1-p) \\cdot 0 = p$.\n",
    "\n",
    "*Scaling* and *shifting* of random variables on a sample space $\\omega$ yields,\n",
    "$$E(X+Y) = E(X) + E(Y)$$\n",
    "$$E(aX+b) = aE(X) + b$$\n",
    "\n",
    "The expected value for a ***binomial distribution*** is,\n",
    "$$E(X) = \\sum_{j} E(X_{j}) = \\sum_{j} p = np$$\n",
    "\n",
    "The expected value for a ***geometric distribution*** is,\n",
    "$$E(X) = \\dfrac{1-p}{p}$$\n",
    "\n",
    "Also, in general, note that if $Y=h(X)$, $E(Y) \\neq h(E(X))$. This is only true if $h(X)$ is a linear function (scaling and shifting only)."
   ]
  },
  {
   "cell_type": "markdown",
   "metadata": {},
   "source": [
    "## Problems"
   ]
  },
  {
   "cell_type": "markdown",
   "metadata": {},
   "source": [
    "___\n",
    "**Example 2.** We roll two dice. You win \\$1000 if the sum is 2 and lose \\$100 otherwise. How\n",
    "much do you expect to win on average per trial?\n",
    "___"
   ]
  },
  {
   "cell_type": "markdown",
   "metadata": {},
   "source": [
    "For each roll, expect 2 to occur 1/36 and all others 35/36. So $\\$1000 \\cdot 1/36 - \\$100 \\cdot 35/36 = -\\$69.44$\n",
    "\n",
    "Another way of looking at it is the expected value of two dice is 7 (if all outcomes are multiplied by their probabilities and divided by total number of possibilities)."
   ]
  },
  {
   "cell_type": "markdown",
   "metadata": {},
   "source": [
    "___\n",
    "**Example 11.** Michael Jordan, the greatest basketball player ever, made 80% of his free\n",
    "throws. In a game what is the expected number he would make before his first miss?\n",
    "___"
   ]
  },
  {
   "cell_type": "markdown",
   "metadata": {},
   "source": [
    "Here, define success as a missed free throw (20% chance) as we wish to find the average number of made free throws before a miss. So for a geometric distribution, $E(X) = \\frac{1-p}{p} = \\frac{1-0.2}{0.2} = 0.8/0.2 = 4$."
   ]
  },
  {
   "cell_type": "markdown",
   "metadata": {},
   "source": [
    "# 5a. Variance of discrete random variables"
   ]
  },
  {
   "cell_type": "markdown",
   "metadata": {},
   "source": [
    "## Notes"
   ]
  },
  {
   "cell_type": "markdown",
   "metadata": {},
   "source": [
    "**Variance and standard deviation**<br>\n",
    "If $X$ is a random variable with mean $E(X)=\\mu$, then the *variance* of $X$ is,\n",
    "$$Var(X) = E((X-\\mu)^{2})$$\n",
    "And *standard deviation* is, \n",
    "$$\\sigma = \\sqrt{Var(X)}$$"
   ]
  },
  {
   "cell_type": "markdown",
   "metadata": {},
   "source": [
    "The formula for $Var(X)$ says to take a weighted average of the squared distance to the mean. \n",
    "$$Var(X) = \\sigma^{2} = E((X-\\mu)^{2}) = \\sum_{i=1}^{n}p(x_{i})(x_{i}-\\mu)^{2}$$\n",
    "Squaring ensures we are averaging only non-negative values, so the spread to the right of the mean won't cancel that to the left. Using expectation weighs high probability values more than low probability values."
   ]
  },
  {
   "cell_type": "markdown",
   "metadata": {},
   "source": [
    "The variance of a *Bernoulli random variable* is,\n",
    "$$ Var(X) = p(0)\\cdot(0-p)^{2} + p(1)\\cdot(1-p)^{2} = (1-p)(-p)^{2} + (p)(1-p)^{2} = \n",
    "p^{2}-p^{3}+p-2p^{2}+p^{3} = p-p^{2}$$\n",
    "So,\n",
    "$$Var(X) = p(1-p)$$"
   ]
  },
  {
   "cell_type": "markdown",
   "metadata": {},
   "source": [
    "Additional properties of variance,\n",
    "1. If $X$ and $Y$ are independent then $Var(X+Y) = Var(X) + Var(Y)$\n",
    "1. Shifting and scaling by constants $a$ and $b$, $Var(aX+b)=a^{2}Var(X)$\n",
    "1. For stochastic rather than batch calculation, $Var(X) = E(X^{2}) - E(X)^{2}$"
   ]
  },
  {
   "cell_type": "markdown",
   "metadata": {},
   "source": [
    "<img src=\"images/distributions.png\">"
   ]
  },
  {
   "cell_type": "markdown",
   "metadata": {},
   "source": [
    "Sample variance is defined by,\n",
    "$$ \\sigma^{2} = \\frac{1}{n-1}\\sum_{i=1}^{n} (X-\\mu)^{2} $$\n",
    "And sample standard deviation is,\n",
    "$$ \\sigma = \\sqrt{ \\frac{\\sum_{i=1}^{n} (X-\\mu)^{2}}{n-1} } $$"
   ]
  },
  {
   "cell_type": "markdown",
   "metadata": {},
   "source": [
    "## Problems"
   ]
  },
  {
   "cell_type": "markdown",
   "metadata": {},
   "source": [
    "___\n",
    "**Problem 1.** A random variable X takes values 1, 2 and 4 with probabilities 0.2, 0.3 and 0.5 respectively.\n",
    "What is Var(X)?\n",
    "___"
   ]
  },
  {
   "cell_type": "code",
   "execution_count": 11,
   "metadata": {
    "collapsed": false
   },
   "outputs": [
    {
     "name": "stdout",
     "output_type": "stream",
     "text": [
      "1.5600000000000014\n"
     ]
    }
   ],
   "source": [
    "# variance is E(X^2)-E(X)^2\n",
    "firstterm = 0.2*(1**2) + 0.3*(2**2) + 0.5*(4**2)\n",
    "secondterm = (0.2*1 + 0.3*2 + 0.5*4)**2\n",
    "print(firstterm - secondterm)"
   ]
  },
  {
   "cell_type": "markdown",
   "metadata": {},
   "source": [
    "___\n",
    "**Problem 2.** Suppose X has mean 2 and variance 3. Compute the following:<br>\n",
    "*(a) Var(3X)<br>\n",
    "(b) Var(3X+8)<br>\n",
    "(c) E(X^2)*\n",
    "___"
   ]
  },
  {
   "cell_type": "code",
   "execution_count": 12,
   "metadata": {
    "collapsed": false
   },
   "outputs": [
    {
     "name": "stdout",
     "output_type": "stream",
     "text": [
      "(a) 27\n",
      "(b) 27\n",
      "(c) 7\n"
     ]
    }
   ],
   "source": [
    "var = 3\n",
    "mean = 2\n",
    "print('(a)', var*3**2)\n",
    "print('(b)', var*3**2)\n",
    "print('(c)', var+mean**2)"
   ]
  },
  {
   "cell_type": "markdown",
   "metadata": {},
   "source": [
    "___\n",
    "**Problem 5.** X∼ Bernoulli(.8). What is the standard deviation of X?\n",
    "___"
   ]
  },
  {
   "cell_type": "code",
   "execution_count": 13,
   "metadata": {
    "collapsed": false
   },
   "outputs": [
    {
     "data": {
      "text/plain": [
       "0.39999999999999997"
      ]
     },
     "execution_count": 13,
     "metadata": {},
     "output_type": "execute_result"
    }
   ],
   "source": [
    "import math\n",
    "math.sqrt(0.8*(1-0.8))"
   ]
  },
  {
   "cell_type": "markdown",
   "metadata": {},
   "source": [
    "<a id=\"cont\"></a>"
   ]
  },
  {
   "cell_type": "markdown",
   "metadata": {},
   "source": [
    "# 5b. Continuous random variables"
   ]
  },
  {
   "cell_type": "markdown",
   "metadata": {},
   "source": [
    "## Notes"
   ]
  },
  {
   "cell_type": "markdown",
   "metadata": {},
   "source": [
    "A random variable $X$ is continuous if there is a function $f(x)$ such that for any $c \\le d$,\n",
    "$$P(c \\le X \\le d) = \\int_{c}^{d} f(x) \\, dx$$\n",
    "where $f(x)$ is the ***probability density function***."
   ]
  },
  {
   "cell_type": "markdown",
   "metadata": {},
   "source": [
    "Some important properties:\n",
    "1. $f(x) \\ge 0$<br><br>\n",
    "1. $\\int_{-\\infty}^{\\infty} f(x) \\, dx = 1 = P(-\\infty < X < \\infty)$<br><br>\n",
    "1. Continuous probability density is similar to discrete probability mass however the density is not a probability, it must be integrated.<br><br>\n",
    "1. Since density is not a probability, there is no restriction that $f(x) \\le 1$."
   ]
  },
  {
   "cell_type": "markdown",
   "metadata": {},
   "source": [
    "The ***cumulative distribution function*** of a continuous random variable is,\n",
    "$$F(b) = P(X \\le b) = \\int_{-\\infty}^{b} f(x) \\, dx$$\n",
    "\n",
    "With the following properties,\n",
    "1. $0 \\le F(x) \\le 1$\n",
    "1. if $a \\le b$ then $F(a) \\le F(b)$\n",
    "1. $P(a \\le X \\le b) = F(b) - F(a)$\n",
    "1. F'(x) = f(x)"
   ]
  },
  {
   "cell_type": "markdown",
   "metadata": {},
   "source": [
    "# 5c. Gallery of continuous random variables"
   ]
  },
  {
   "cell_type": "markdown",
   "metadata": {},
   "source": [
    "## Notes"
   ]
  },
  {
   "cell_type": "markdown",
   "metadata": {},
   "source": [
    "### Uniform distribution\n",
    "1. Parameters: $a,b$\n",
    "1. Range: $[a,b]$\n",
    "1. Notation: $uniform(a,b)$\n",
    "1. Density: $f(x) = \\dfrac{1}{b-a}$\n",
    "1. Distribution: $F(x) = \\dfrac{x-a}{b-a}$\n",
    "1. Model system: all outcomes in the range have equal probability (i.e., all outcomes have the same probability density)\n",
    "\n",
    "For example, most pseudo-random generators simulate a uniform distribution. A spinning arrow will stop at an angle that is uniformly distributed between 0 and 2$\\pi$ radians. This distribution ***models the selection of a value from a specified range at random***."
   ]
  },
  {
   "cell_type": "markdown",
   "metadata": {},
   "source": [
    "### Exponential distribution\n",
    "1. Parameter: $\\lambda$\n",
    "1. Range: $[0,\\infty)$\n",
    "1. Notation: $exponential(\\lambda)$\n",
    "1. Density: $f(x) = \\lambda e^{-\\lambda x}$\n",
    "1. Distribution: $F(x) = 1-e^{-\\lambda x}$\n",
    "1. Model system: the waiting time for a continuous process to change state."
   ]
  },
  {
   "cell_type": "markdown",
   "metadata": {},
   "source": [
    "This distribution ***models the probability an event occurs in a given time window***. As an example, waiting for a taxi is exponentially distributed. The parameter $\\lambda$ is equivalent to the average number of taxes passing per unit time. This distribution is also used to model the waiting time for an isotope to undergo nuclear decay, here the parameter is related to the half-life.\n",
    "\n",
    "Just like the discrete geometric distribution, where having flipped a coin 5 times gives no information about the next 5 flips, the exponential distribution also has ***memorylessness***. If the probability for a taxi to arrive in the first 5 minutes is $p$, the next 5 minutes will also have a probability of $p$. In contrast, waiting for a train or bus which run on schedule will increase the probability for each successive time period.\n",
    "\n",
    "Memorylessness can be described as $P(X > s+t|X>s) = P(X>t)$."
   ]
  },
  {
   "cell_type": "markdown",
   "metadata": {},
   "source": [
    "<img src=\"images/expdist.png\">"
   ]
  },
  {
   "cell_type": "markdown",
   "metadata": {},
   "source": [
    "### Normal distribution\n",
    "1. Parameters: $\\mu, \\sigma$\n",
    "1. Range: $(-\\infty,\\infty)$\n",
    "1. Notation: $normal(\\mu, \\sigma^{2})$\n",
    "1. Density: $f(x) = \\dfrac{1}{\\sigma \\sqrt{2\\pi}}e^{-(x-\\mu)^{2}/2\\sigma^{2}}$\n",
    "1. Distribution: F(x) is found using tables or software\n",
    "1. Models system: measurement error or averages of lost of data.\n",
    "\n",
    "This distribution is ***used to represent real-valued random variables according to the central limit theorem***. The standard normal distribution has mean 0 and variance 1."
   ]
  },
  {
   "cell_type": "markdown",
   "metadata": {},
   "source": [
    "## Problems"
   ]
  },
  {
   "cell_type": "markdown",
   "metadata": {},
   "source": [
    "___\n",
    "**Problem 1.**Give the following values for a standard normal random variable.<br>\n",
    "(a) $P(Z<1.5)$<br>\n",
    "(b) $P(-1<Z<1)$\n",
    "___"
   ]
  },
  {
   "cell_type": "code",
   "execution_count": 18,
   "metadata": {
    "collapsed": false
   },
   "outputs": [
    {
     "name": "stdout",
     "output_type": "stream",
     "text": [
      "(a) 0.933\n",
      "(b) 0.683\n"
     ]
    }
   ],
   "source": [
    "from scipy.stats import norm\n",
    "print('(a) {0:.3f}'.format(norm.cdf(1.5)))\n",
    "print('(b) {0:.3f}'.format(norm.cdf(1)-norm.cdf(-1)))"
   ]
  },
  {
   "cell_type": "markdown",
   "metadata": {},
   "source": [
    "# 5d. Manipulating continuous random variables"
   ]
  },
  {
   "cell_type": "markdown",
   "metadata": {},
   "source": [
    "## Notes"
   ]
  },
  {
   "cell_type": "markdown",
   "metadata": {},
   "source": [
    "To find the unknown pdf and cdf of a random variable that is defined in terms of a random variable with known pdf and cdf, use a change of variables to find the new pdf and the cdf can be found by integrating over the transformed range."
   ]
  },
  {
   "cell_type": "markdown",
   "metadata": {},
   "source": [
    "## Problems"
   ]
  },
  {
   "cell_type": "markdown",
   "metadata": {},
   "source": [
    "___\n",
    "**Example 4.** Assume X ~ $normal(\\mu,\\sigma^{2})$. Show that $Z = \\frac{X-\\mu}{\\sigma}$ is the standard normal.\n",
    "___"
   ]
  },
  {
   "cell_type": "markdown",
   "metadata": {},
   "source": [
    "$y = (x-\\mu)/\\sigma$ &nbsp; and &nbsp; $x = \\sigma y + \\mu$ &nbsp; so &nbsp; $dy = (1/\\sigma) dx$ &nbsp; or &nbsp; $dx = \\sigma dy$"
   ]
  },
  {
   "cell_type": "markdown",
   "metadata": {},
   "source": [
    "$f(x) dx = \\dfrac{1}{\\sigma \\sqrt{2\\pi}}e^{-(x-\\mu)^{2}/2\\sigma^{2}} dx$"
   ]
  },
  {
   "cell_type": "markdown",
   "metadata": {},
   "source": [
    "$ = \\dfrac{1}{\\sigma \\sqrt{2\\pi}} e^{-(\\sigma y + \\mu - \\mu)^{2}/2\\sigma^{2}} \\sigma dy$\n",
    "$ = \\dfrac{1}{\\sqrt{2\\pi}} e^{-y^{2}/2} dy$"
   ]
  },
  {
   "cell_type": "markdown",
   "metadata": {},
   "source": [
    "# 6a. Expectation and variance for continuous random variables"
   ]
  },
  {
   "cell_type": "markdown",
   "metadata": {},
   "source": [
    "## Notes"
   ]
  },
  {
   "cell_type": "markdown",
   "metadata": {},
   "source": [
    "Let $X$ be a continuous random variable with range $[a,b]$ and probability density function $f(x)$. The ***expected value*** of $X$ is,\n",
    "$$ E(X) = \\int_{a}^{b} x\\,f(x) \\, dx$$\n",
    "We can interpret this expression as a weighted integral of values $x$ of $X$ where the weights are the probabilities $f(x) \\cdot dx$. The properties of $E(X)$ are the same as for discrete distributions.\n",
    "\n",
    "If $x$ is replaced with the function $h(x)$ then Y=h(X) is a random variable and,\n",
    "$$E(Y) = E(h(X)) = \\int_{-\\infty}^{\\infty} h(x)\\,f(x)\\,dx$$"
   ]
  },
  {
   "cell_type": "markdown",
   "metadata": {},
   "source": [
    "***Variance*** can be calculated in two ways:\n",
    "1. $Var(X) = E((X-\\mu)^{2})$<br><br>\n",
    "1. $Var(X) = E(X^{2})-E(X)^{2}$"
   ]
  },
  {
   "cell_type": "markdown",
   "metadata": {},
   "source": [
    "The $p^{th}$ ***quantile*** of X is the value $q_{p}$ such that $F(q_{p}) = P(X \\le q_{p}) = p$. For the probability density function, the area under the curve less than $q_{p}$ is equal to $p$ and the area under the curve greater than $q_{p}$ is $1-p$."
   ]
  },
  {
   "cell_type": "markdown",
   "metadata": {},
   "source": [
    "For the exponential distribution, the expected value is equal to $\\frac{1}{\\lambda}$ and the variance is $\\frac{1}{\\lambda^{2}}$."
   ]
  },
  {
   "cell_type": "markdown",
   "metadata": {},
   "source": [
    "## Problems"
   ]
  },
  {
   "cell_type": "markdown",
   "metadata": {},
   "source": [
    "___\n",
    "**Example 13.** Find the 0.6 quantile of the standard normal distribution.\n",
    "___"
   ]
  },
  {
   "cell_type": "code",
   "execution_count": 20,
   "metadata": {
    "collapsed": false
   },
   "outputs": [
    {
     "data": {
      "text/plain": [
       "0.25334710313579972"
      ]
     },
     "execution_count": 20,
     "metadata": {},
     "output_type": "execute_result"
    }
   ],
   "source": [
    "from scipy.stats import norm\n",
    "norm.ppf(0.6)"
   ]
  },
  {
   "cell_type": "markdown",
   "metadata": {},
   "source": [
    "<a id=\"clt\"></a>"
   ]
  },
  {
   "cell_type": "markdown",
   "metadata": {},
   "source": [
    "# 6b. Central limit theorem and the law of large numbers"
   ]
  },
  {
   "cell_type": "markdown",
   "metadata": {},
   "source": [
    "## Notes"
   ]
  },
  {
   "cell_type": "markdown",
   "metadata": {},
   "source": [
    "The ***law of large numbers*** states two things about many independent and identically-distributed samples taken from the same distribution $(X_{1},X_{2},...,X_{n},...)$:\n",
    "1. The average of many independent samples is close to the mean of the underlying distribution.\n",
    "1. The density histogram of many independent samples is close to the graph of the density of the underlying distribution.\n",
    "\n",
    "The ***central limit theorem*** states that the sum or average of many independent samples of a random variable is approximately a normal random variable.\n",
    "\n",
    "More formally, consider the i.i.d. random variables $(X_{1},X_{2},...,X_{n},...)$ each with mean $\\mu$ and standard deviation $\\sigma$. Define the sum of the variables and average,\n",
    "$$S_{n} = X_{1} + X_{2} + ... + X_{n} = \\sum_{i=1}^{n} X_{i}$$\n",
    "$$\\overline{X} = \\dfrac{S_{n}}{n}$$\n",
    "\n",
    "Since they are multiples of one another, these two newly created random variables have the same standardization,\n",
    "$$Z_{n} = \\dfrac{S_{n} - n\\mu}{\\sigma \\sqrt{n}} = \\dfrac{\\overline{X}_{n} - \\mu}{\\sigma / \\sqrt{n}}$$\n",
    "\n",
    "Thus,\n",
    "$$ \\overline{X}_{n} \\approx Normal(\\mu, \\sigma^{2}/n) $$\n",
    "$$ S_{n} \\approx Normal(n \\mu, n \\sigma^{2}) $$\n",
    "$$ Z_{n} \\approx Normal(0,1) $$\n",
    "\n",
    "Notes:\n",
    "1. $\\overline{X}_{n}$ is approximately a normal distribution with the same mean as $X$ but a smaller variance.\n",
    "1. $S_{n}$ is approximately normal.\n",
    "1. Standardized $S_{n}$ and $\\overline{X}_{n}$ are approximately standard normal.\n",
    "\n",
    "Often, the number of independent samples $n$ does not need to be very large for these theories to hold, typically need just $n>30$.\n",
    "\n",
    "For an example see [https://www.khanacademy.org/math/probability/statistics-inferential/sampling-distribution/v/central-limit-theorem](https://www.khanacademy.org/math/probability/statistics-inferential/sampling-distribution/v/central-limit-theorem)."
   ]
  },
  {
   "cell_type": "markdown",
   "metadata": {},
   "source": [
    "**Example**<br>\n",
    "The standardized average of $n$ iid uniform random variables for $n = 1,2,4,8,12$ is shown below. <br>\n",
    "This is computed by,\n",
    "$$Z_{n} = \\dfrac{X_{1}+...+X_{n} - n \\mu}{\\sigma \\sqrt{n}}$$\n",
    "Remember that a random variable yields an output value for some input value. The central limit theorem states that  these output values converge to the standard normal distribution if the random variable selection process is repeated a large number of times. So each possible output value in $X$ has a new output value in $Z_{n}$.\n",
    "\n",
    "<img src=\"images/uniformclt.png\">"
   ]
  },
  {
   "cell_type": "markdown",
   "metadata": {},
   "source": [
    "**Standard normal distribution**<br>\n",
    "<img src=\"images/normdist.png\">"
   ]
  },
  {
   "cell_type": "markdown",
   "metadata": {},
   "source": [
    "## Problems"
   ]
  },
  {
   "cell_type": "markdown",
   "metadata": {},
   "source": [
    "___\n",
    "**Example 2.** Flip a fair coin 100 times. Estimate the probability of more than 55 heads.\n",
    "___"
   ]
  },
  {
   "cell_type": "markdown",
   "metadata": {},
   "source": [
    "From the properties of a binomial distribution, expect heads to have $\\mu = np = 0.5 \\cdot 100 = 50$ and \n",
    "$\\sigma^{2} = np(1-p) = 100 \\cdot 0.5(1-0.5) = 25$.\n",
    "\n",
    "From the central limit theorem, expect this to be a normal random variable, with probability given by the standard normal distribution. So translate $X$ and 55 to a standard normal distribution,\n",
    "$$Z=\\dfrac{X-\\mu}{\\sigma}$$ and\n",
    "$$ P(X>55) = P(\\frac{X-50}{5} > \\frac{55-50}{5}) = P(Z>1)$$\n",
    "\n",
    "For the standard normal distribution, the probability between -1 and 1 is 0.68 which leaves 0.32 in the remaining region. Since we are interested only in the half of this symmetric region greater than 1, this leaves 0.16. So,\n",
    "$$P(X>55) \\approx 0.16 $$"
   ]
  },
  {
   "cell_type": "markdown",
   "metadata": {},
   "source": [
    "___\n",
    "***Example 4.*** Estimate the probability of between 40 and 60 heads in 100 flips.\n",
    "___"
   ]
  },
  {
   "cell_type": "markdown",
   "metadata": {},
   "source": [
    "$P(\\frac{40-50}{5} < \\frac{X-50}{5} < \\frac{60-50}{5}) = \n",
    "P(-2<Z<2) \\approx 0.95$"
   ]
  },
  {
   "cell_type": "markdown",
   "metadata": {},
   "source": [
    "# 7a. Joint distributions and independence\n",
    "\n",
    "## Notes\n",
    "\n",
    "### Discrete case\n",
    "\n",
    "Suppose random variables $X$ takes values $\\{x_{1}, x_{2}, ..., x_{n}\\}$ and $Y$ takes values $\\{y_{1}, y_{2}, ..., y_{m}\\}$ and the ordered pair $(X,Y)$ takes values in the product $\\{(x_{1},y_{1}),(x_{1},y_{1}),...,(x_{n},y_{m}) \\}$. The *joint probability mass function* is the function $p(x_{i}, y_{j})$ giving the probability of the joint outcome $X=x_{i}, Y=y_{j}$.\n",
    "\n",
    "Examples include probability of outcomes for rolling two dice.\n",
    "\n",
    "The ***marginal pmf*** is the pmf of each of the individual contributions to the mass function,\n",
    "$$ p_{X}(x_{i}) = \\sum_{j} p(x_{i},y_{j}) \\ , \\quad p_{Y}(y_{j}) = \\sum_{i} p(x_{i},y_{j}) $$\n",
    "\n",
    "\n",
    "### Continuous case\n",
    "\n",
    "If $X$ takes values in $[a,b]$ and $Y$ takes values in $[c,d]$ then the pair $(X,Y)$ takes values in the product $[a,b] \\times [c,d]$. The *joint probability density function* of $X$ and $Y$ is $f(x,y)$ giving the probability at $(x,y)$. The probability that $(X,Y)$ is in an infinitesimally small rectangle $dx \\times dy$ around $(x,y)$ is $f(x,y) \\ dx \\ dy$.\n",
    "\n",
    "The ***marginal pmf*** is the pmf of each of the individual contributions to the mass function,\n",
    "$$ f_{X}(x) = \\int_{c}^{d} f(x,y) \\ dy \\ , \\quad f_{Y}(y) = \\int_{a}^{b} f(x,y) \\ dx $$\n",
    "\n",
    "### Independence\n",
    "\n",
    "Jointly distributed random variables are indepedent if their individual components are separable (i.e., can be written as a product),\n",
    "\n",
    "$$ p(x_{i},y_{j}) = p_{X}(x_{i}) \\ p_{Y}(y_{j}) $$\n",
    "\n",
    "$$ f(x,y) = f_{X}(x) \\ f_{Y}(y) $$\n",
    "\n",
    "Just like events $A$ and $B$ are independent if,\n",
    "\n",
    "$$ P(A \\cap B) = P(A)P(B) $$"
   ]
  },
  {
   "cell_type": "markdown",
   "metadata": {},
   "source": [
    "# 7b. Covariance and correlation\n",
    "\n",
    "## Notes\n",
    "\n",
    "### Covariance\n",
    "\n",
    "Covariance is a measure of how much two random variables vary together (for example, height and weight of animals). For random variables $X$ and $Y$ with means $\\mu_{X}$ and $\\mu_{Y}$, the covariance is defined as,\n",
    "\n",
    "$$ Cov(X,Y) = E((X-\\mu_{X})(Y-\\mu_{Y})) $$\n",
    "\n",
    "Some useful properties include $Cov(X,X) = Var(X)$ and $Cov(X,Y)=0$ if $X$ and $Y$ are independent.\n",
    "\n",
    "Given a ***discrete joint probability mass function*** $p(x_{i},y_{j})$ then,\n",
    "\n",
    "$$ Cov(X,Y) = \\Bigg( \\sum_{i=1}^{n} \\sum_{j=1}^{m} p(x_{i},y_{j})x_{i}y_{j} \\Bigg) - \\mu_{X}\\mu_{Y} $$\n",
    "\n",
    "Given a ***continuous joint probability density function*** $f(x,y)$ then,\n",
    "\n",
    "$$ Cov(X,Y) = \\Bigg( \\int_{c}^{d} \\int_{a}^{b} xy \\ f(x,y) \\ dx \\ dy \\Bigg) - \\mu_{X}\\mu_{Y} $$\n",
    "\n",
    "### Correlation\n",
    "\n",
    "The units of covariance are '$X$ times $Y$' so it can be difficult to compare covariances if the scales change. Correlation removes this dependence on scale,\n",
    "\n",
    "$$ Cor(X,Y) = \\rho = \\frac{Cov(X,Y)}{\\sigma_{X}\\sigma_{Y}} $$\n",
    "\n",
    "Correlation is the covariance of the standardizations of $X$ and $Y$, it is dimensionless.\n",
    "\n",
    "The ***bivariate normal distribution*** has joint probability density,\n",
    "\n",
    "$$ f(x,y) = \\frac{\n",
    "\\exp{\\Bigg( \\frac{-1}{2(1-\\rho^2)} \\Big[ \\frac{(x-\\mu_{X})^2}{\\sigma_{X}^2} + \\frac{(y-\\mu_{Y})^2}{\\sigma_{Y}^2} - \\frac{2\\rho(x-\\mu_{X})(y-\\mu_{Y})}{\\sigma_{X}\\sigma_{Y}} \\Big] \\Bigg)}\n",
    "}{2\\pi \\sigma_{X}\\sigma_{Y} \\sqrt{1-\\rho^{2}}} $$\n",
    "\n",
    "Here the marginal distributions for $X$ and $Y$ are normal and the correlation between $X$ and $Y$ is $\\rho$."
   ]
  },
  {
   "cell_type": "markdown",
   "metadata": {},
   "source": [
    "<a id=\"stats\"></a>"
   ]
  },
  {
   "cell_type": "markdown",
   "metadata": {},
   "source": [
    "# 10a. Intro to statistics\n",
    "\n",
    "## Notes\n",
    "\n",
    "The goal of statistics is to make inferences based on data. The basic process is to (1) make hypotheses about what is true, (2) collect data in experiments, (3) describe the results, and then (4) infer from the results the strength of evidence concerning our hypotheses. Proper design of the experiment is crucial to drawing useful, valid inferences.\n",
    "\n",
    "### Descriptive statistics\n",
    "\n",
    "*Summary statistics* help describe the experimental data and include calculations such as mean, median, and interquartile range. The data can also be visualized with devices like histograms, scatterplots, and the empirical cdf. Can help determine if a dataset follows a familiar probability distribution.\n",
    "\n",
    "### Inferential statistics\n",
    "\n",
    "In order to draw inferences from data, it is necessary to specify a statistical model for the random process by which the data arises. For example, suppose the data takes the form of a series of measurements whose error is believed to follow a normal distribution. The data can then be used to provide evidence for or against the hypothesis. Typically, the data is used to draw inference about model parameters such as $\\mu$ and $\\sigma$ for a variable thought to behave like a normal distribution $N(\\mu,\\sigma)$. For two-outcome Bernolli distribution $Ber(p)$, the data can be used to draw inferences about the value of $p$. However the outcome is never certain, it always probabilistic.\n",
    "\n",
    "### Importance of Bayes' theorem\n",
    "\n",
    "Beginning with a hypothesis and collecting data we can calculate the probability the hypothesis is true given the data collected,\n",
    "\n",
    "$$ P(\\mbox{hypothesis is true}\\ | \\ \\mbox{data}) = \n",
    "\\frac{P(\\mbox{data} \\ | \\ \\mbox{hypothesis is true}) \\cdot P(\\mbox{hypothesis is true})}{P(\\mbox{data})}$$\n",
    "\n",
    "Unfortunately, in practice we rarely know the exact values of all the terms on the right."
   ]
  },
  {
   "cell_type": "markdown",
   "metadata": {
    "collapsed": true
   },
   "source": [
    "# 10b. Maximum Likelihood Estimation\n",
    "\n",
    "Used in situations where random data is known to be drawn from a specific parametric distribution (normal, binomial, Bernoulli, exponential, etc). Here, statistical inference is used to determine the *probability of parameters* given a *parametric model* and *observed data*.\n",
    "\n",
    "**Maximum Likelihood Estimate (MLE)** us used to estimate the unknown parameters from the data. It answers the question: *for which parameter value does the observed data have the highest probability?*\n",
    "\n",
    "### Example\n",
    "\n",
    "***A coin is flipped 100 times and 55 heads are recorded. Find the maximum likelihood estimate for the probability $p$ of heads on a single coin toss.***\n",
    "\n",
    "This coin-flipping problem has a binomial distribution. The likelihood, $P(data|p)$, is given by,\n",
    "\n",
    "$$ P(55 heads|p) = {{100}\\choose{55}} p^{55} (1-p)^{45} $$\n",
    "\n",
    "*To find the value of $p$ that maximizes the likelihood (MLE), take the derivative of the likelihood, set it to zero, then solve for $p$*,\n",
    "\n",
    "$$ \\frac{d}{dp} P(55 heads|p) = {{100}\\choose{55}} (55p^{54} (1-p)^{45} - 45p^{55} (1-p)^{44}) = 0 $$\n",
    "$$ 55p^{54} (1-p)^{45} = 45p^{55} (1-p)^{44} $$\n",
    "$$ 55(1-p) = 45p $$\n",
    "$$ 55 = 100p $$\n",
    "$$ \\hat{p} = 0.55 $$\n",
    "\n",
    "***Answer in words:*** given the data recorded during this experiment, the most likely value for the parameter $p$ of the Binomial distribution representing the appearance of heads after flipping this coin, has a value of 0.55.\n",
    "\n",
    "<br>\n",
    "The MLE is computed from the data and thus can be considered a statistic. A second derivative sign test should be used to check that this extreme point is actually a maximum.\n",
    "\n",
    "In *normal distributions*, $N(\\mu, \\sigma^{2})$, the MLE for the the two parameters are the mean of the data and the variance of the data, respectively."
   ]
  },
  {
   "cell_type": "markdown",
   "metadata": {
    "collapsed": true
   },
   "source": [
    "<br>\n",
    "\n",
    "___\n",
    "\n",
    "<br>\n",
    "___\n",
    "\n",
    "# Statistical Thinking and Data Analysis"
   ]
  },
  {
   "cell_type": "markdown",
   "metadata": {},
   "source": [
    "<a id=\"pwr\"></a>"
   ]
  },
  {
   "cell_type": "markdown",
   "metadata": {},
   "source": [
    "# 1. Statistical power"
   ]
  },
  {
   "cell_type": "markdown",
   "metadata": {},
   "source": [
    "The sample size $n$ needed to achieve a certain width for a 2-sided confidence interval is,\n",
    "$$ n = \\Big( \\frac{z_{\\alpha / 2} \\sigma}{E} \\Big)^{2} $$\n",
    "where $E$ is the half-width of the CI.\n",
    "\n",
    "For upper 1-sided z-tests:\n",
    "$$ H_{0} : \\mu_{1} \\le \\mu_{0} $$\n",
    "$$ H_{1} : \\mu_{1} > \\mu_{0} $$ \n",
    "\n",
    "Power of the test to detect mean $\\mu_{1}$,\n",
    "$$ \\pi(\\mu_{1}) = P( \\mbox{test rejects } H_{0} \\mbox{ in favor of } H_{1} | H_{1}) = \\Phi \\Big( -z_{\\alpha} + \\frac{\\mu_{1} - \\mu_{0}}{\\sigma / \\sqrt{n}} \\Big) $$\n",
    "\n",
    "Sample size $n$ needed to achieve desired power,\n",
    "$$ \\pi(\\mu_{1}) = \\Phi \\Big( -z_{\\alpha} + \\frac{\\mu_{1} - \\mu_{0}}{\\sigma / \\sqrt{n}} \\Big) = 1 - \\beta = \\Phi(z_{\\beta}) $$\n",
    "$$ n = \\Big[\\frac{(z_{\\alpha / 2} + z_{\\beta})\\sigma}{\\delta} \\Big]^{2} $$"
   ]
  },
  {
   "cell_type": "markdown",
   "metadata": {},
   "source": [
    "___\n",
    "***Assignment 2, Exercise 4.*** A thermostat used in an electrical device is to be checked for the accuracy of its design setting of 200°F. Ten thermostats were tested. \n",
    "\n",
    "[202.2, 203.4, 200.5, 202.5, 206.3, 198.0, 203.7, 200.8, 201.3, 199.0]\n",
    " \n",
    "\n",
    "Assume the settings come from a normal distribution. Using α = 0.05, perform a hypothesis test to determine if the mean setting is greater than 200°F. What are the null and alternative hypotheses?\n",
    "\n",
    "Which test do you use and why? Explain your conclusion using:\n",
    "\n",
    "a.\t An appropriate confidence interval.<br>\n",
    "b.\t A critical value from the distribution of the test statistic.<br>\n",
    "c.\t A p‐value.\n",
    "___"
   ]
  },
  {
   "cell_type": "markdown",
   "metadata": {},
   "source": [
    "Null: $H_{0} \\le 200$ <br>\n",
    "Alternative: $H_{a} > 200$ <br>\n",
    "\n",
    "Should use a t-test since the number of samples is small (only 10 which is less than 30).\n",
    "\n",
    "(a) An appropriate confidence interval is $1 - \\alpha = 1 - 0.05$ or 95%. It is calculated by $\\mu > \\bar{x} - z_{\\alpha} \\frac{s}{\\sqrt{n}}$\n",
    "\n",
    "(b) For $\\alpha = 0.05$ and $n-1=9$ degrees of freedom, from a t-table, the critical values is $t = 1.833$.\n",
    "\n",
    "(c) Calculate $t = \\frac{\\bar{x} - \\mu}{s / \\sqrt{n}}$, can look up p-value in table of chi squared distribution for given degrees of freedom and significance level."
   ]
  },
  {
   "cell_type": "code",
   "execution_count": 19,
   "metadata": {
    "collapsed": false
   },
   "outputs": [
    {
     "name": "stdout",
     "output_type": "stream",
     "text": [
      "mean std dev\n",
      "201.77 2.28650388147\n",
      "\n",
      "t p\n",
      "2.32232275791 0.0226565827336\n",
      "\n",
      "Greater than lower bound of confidence interval?\n",
      "(200.37709553252327, 203.30062209634818)\n"
     ]
    }
   ],
   "source": [
    "import numpy as np\n",
    "import scipy\n",
    "import statsmodels.api as sm\n",
    "\n",
    "data = np.array([202.2, 203.4, 200.5, 202.5, 206.3, 198.0, 203.7, 200.8, 201.3, 199.0])\n",
    "t,p = scipy.stats.ttest_1samp(data, 200.0) # two sided test, alpha not considered here\n",
    "print('mean', 'std dev')\n",
    "print(data.mean(), data.std())\n",
    "print('')\n",
    "print('t', 'p')\n",
    "print(t,p/2)   # divide p-value in half to convert from two-tail to one-tail test\n",
    "\n",
    "print('')\n",
    "# confidence interval\n",
    "el = sm.emplike.DescStat(data)\n",
    "print('Greater than lower bound of confidence interval?')\n",
    "print(el.ci_mean(sig=0.05))  # this is the value for one-tail test, for two-tail test, divide sig in half"
   ]
  },
  {
   "cell_type": "code",
   "execution_count": 35,
   "metadata": {
    "collapsed": false
   },
   "outputs": [
    {
     "name": "stdout",
     "output_type": "stream",
     "text": [
      "200.352810212\n",
      "203.187189788\n"
     ]
    }
   ],
   "source": [
    "import math\n",
    "# z-alpha is z score for given significance\n",
    "print(data.mean()-1.96*data.std()/math.sqrt(10))\n",
    "print(data.mean()+1.96*data.std()/math.sqrt(10))"
   ]
  },
  {
   "cell_type": "markdown",
   "metadata": {},
   "source": [
    "1. Since the p-value is in the required range, $p < 0.05$, it is  possible to reject the null hypothesis that the measured mean values is not significantly greater than 200.\n",
    "1. Since 200 is below the lower bound of the 95% confidence interval for the collected data, can reject null hypothesis.\n",
    "1. Since the calculated t-value is larger than the critical t-value, can reject null hypothesis."
   ]
  }
 ],
 "metadata": {
  "kernelspec": {
   "display_name": "Python 3",
   "language": "python",
   "name": "python3"
  },
  "language_info": {
   "codemirror_mode": {
    "name": "ipython",
    "version": 3
   },
   "file_extension": ".py",
   "mimetype": "text/x-python",
   "name": "python",
   "nbconvert_exporter": "python",
   "pygments_lexer": "ipython3",
   "version": "3.5.1"
  }
 },
 "nbformat": 4,
 "nbformat_minor": 0
}
