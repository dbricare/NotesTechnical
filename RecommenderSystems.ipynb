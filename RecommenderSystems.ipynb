{
 "cells": [
  {
   "cell_type": "markdown",
   "metadata": {},
   "source": [
    "# Recommending Products to Users/Customers\n",
    "\n",
    "References:<br>\n",
    "https://www.coursera.org/learn/machine-learning\n",
    "\n",
    "Could possibly be used to recommend markets to businesses by identifying demand in similar markets or products that are similar to already popular products."
   ]
  },
  {
   "cell_type": "markdown",
   "metadata": {},
   "source": [
    "---\n",
    "\n",
    "# Content-based recommendations\n",
    "\n",
    "Make recommendations for unviewed/unrated movies based on previous ratings by user(s) for other products.\n",
    "\n",
    "<img src=\"images/rec1.png\">"
   ]
  },
  {
   "cell_type": "markdown",
   "metadata": {},
   "source": [
    "Here,<br>\n",
    "$ n_u = $ number of users <br>\n",
    "$ n_m = $ number of movies <br>\n",
    "$ n = $ number of features <br>\n",
    "$ r(i,j) = 1$ if user $j$ has rated movie $i$ (0 otherwise) <br>\n",
    "$y^{(i,j)}$ = rating by user $j$ on movie $i$ (if defined) <br>\n",
    "$ m^{(j)}$ = number of movies rated by user $j$\n",
    "\n",
    "\n",
    "Each movie is represented by a feature vector with an intercept term $x_0 = 1$, for example,\n",
    "$$ x^{(1)} = \\begin{bmatrix} 1 \\\\ 0.9 \\\\ 0 \\end{bmatrix} $$\n",
    "\n",
    "\n",
    "For each user $j$, learn a parameter $\\theta^{(j)} \\in \\mathbb{R}^3$. Predict user $j$ as rating moving $i$ with $(\\theta^{(j)})^T x^{(i)}$.\n",
    "\n",
    "\n",
    "Can apply a least squares minimization procedure with regularization to parameterize the reviews/behavior of each user $j$.\n",
    "\n",
    "<img src=\"images/rec2.png\" width=\"600\">\n",
    "\n",
    "Apply gradient descent to minimize this function. Procedure is different for features that are zero-valued, there is no regularization.\n",
    "\n",
    "<img src=\"images/rec3.png\" width=\"600\">"
   ]
  },
  {
   "cell_type": "markdown",
   "metadata": {},
   "source": [
    "---\n",
    "\n",
    "# Collaborative filtering\n",
    "\n",
    "If features describing movies do not exist, this algorithm can learn what features to use.\n",
    "\n",
    "<img src=\"images/rec4.png\">\n",
    "\n",
    "Assume users have indicated their personal preference for different types of movies. Thus users have provided information that allows us to parameterize their potential ratings.\n",
    "\n",
    "<img src=\"images/rec5.png\">\n",
    "\n",
    "From this information, it is possible to infer the values of the features for each movie. So given an estimate for parameters $\\theta$ the values of the features $x$ can be calculated, then the parameters can be updated and the process repeated iteratively."
   ]
  },
  {
   "cell_type": "markdown",
   "metadata": {},
   "source": [
    "### Algorithm\n",
    "\n",
    "#### Optimization objective\n",
    "\n",
    "The cost function $J$ is,\n",
    "\n",
    "$$ \\frac{1}{2} \\sum_{(i,j):r(i,j)=1} \\big( (\\theta^{(j)})^T x^{(i)} - y^{(i,j)} \\big)^2 + \n",
    "\\frac{\\lambda}{2} \\sum_{i=1}^{n_m} \\sum_{k=1}^{n} (x_k^{(i)})^2 + \n",
    "\\frac{\\lambda}{2} \\sum_{j=1}^{n_u} \\sum_{k=1}^{n} (\\theta_k^{(j)})^2 $$\n",
    "\n",
    "1. Initialize $x$ and $\\theta$ to small random variables\n",
    "1. Minimize the cost function $J$ using gradient descent or other optimization procedure for every user $j$ and movie $i$\n",
    "1. For a user with parameters $\\theta$ and movie with learned features $x$, predict a star rating of $\\theta^T x$"
   ]
  },
  {
   "cell_type": "markdown",
   "metadata": {},
   "source": [
    "---\n",
    "\n",
    "# Low rank matrix factorization\n",
    "\n",
    "Find related products using ratings.\n",
    "\n",
    "<img src=\"images/rec6.png\" width=\"600\">\n",
    "\n",
    "The predicted ratings can also be written as $X \\Theta^T$, where,\n",
    "\n",
    "$$ X = \\begin{bmatrix} (x^{(1)})^T \\\\ (x^{(2)})^T \\\\ ... \\\\ (x^{(n_m)})^T \\end{bmatrix}, \\quad\n",
    "\\Theta = \\begin{bmatrix} (\\theta^{(1)})^T \\\\ (\\theta^{(2)})^T \\\\ ... \\\\ (\\theta^{(n_u)})^T \\end{bmatrix} $$\n",
    "\n",
    "How to find movies $j$ related to movie $i$?\n",
    "\n",
    "Find the movies with the smallest distance between the feature vectors $||x_j - x_i ||$.\n",
    "\n",
    "### Note\n",
    "\n",
    "If users have not previously rated any movies, this algorithm will return a rating of zero for all movies but this might not be realistic. So we can use ***mean normalization*** on the given rating data, where each movie will have an average rating of zero.\n",
    "\n",
    "In this case the prediction for user $j$ on movie $i$,\n",
    "\n",
    "$$ (\\theta{(j)})^T x^{(i)} + \\mu_i $$\n",
    "\n",
    "The prediction is then just the average rating for that movie over all users (since the first term is zero because user $j$ has not reviewed movie $i$).\n",
    "\n",
    "Can also be modified to recommend movie $i$ with no ratings with a predicted rating based on the individual user $j$. Though the utility of that procedure is questionable."
   ]
  },
  {
   "cell_type": "code",
   "execution_count": null,
   "metadata": {
    "collapsed": true
   },
   "outputs": [],
   "source": []
  }
 ],
 "metadata": {
  "kernelspec": {
   "display_name": "Python 3",
   "language": "python",
   "name": "python3"
  },
  "language_info": {
   "codemirror_mode": {
    "name": "ipython",
    "version": 3
   },
   "file_extension": ".py",
   "mimetype": "text/x-python",
   "name": "python",
   "nbconvert_exporter": "python",
   "pygments_lexer": "ipython3",
   "version": "3.5.1"
  }
 },
 "nbformat": 4,
 "nbformat_minor": 1
}
