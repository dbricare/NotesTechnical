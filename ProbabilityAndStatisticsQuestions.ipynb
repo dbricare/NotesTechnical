{
 "cells": [
  {
   "cell_type": "markdown",
   "metadata": {},
   "source": [
    "# References\n",
    "\n",
    "1. https://www.countbayesie.com/blog/2015/3/3/6-amazing-trick-with-monte-carlo-simulations\n"
   ]
  },
  {
   "cell_type": "markdown",
   "metadata": {},
   "source": [
    "# Questions asked during phone interviews"
   ]
  },
  {
   "cell_type": "markdown",
   "metadata": {},
   "source": [
    "___\n",
    "### A coin is flipped 10 times resulting in 8 heads and 2 tails. Is the coin fair?"
   ]
  },
  {
   "cell_type": "markdown",
   "metadata": {},
   "source": [
    "**Solution**\n",
    "\n",
    "This requires hypothesis testing. Assign *null hypothesis* to be that the coin is fair, *alternative hypothesis* is coin is unfair.\n",
    "\n",
    "The flips of a fair coin follow a binomial distribution which has **average** $\\mu = N \\cdot p$ and **standard deviation** $\\sigma = \\sqrt{N \\cdot p (1-p)}$. The probability of heads occurring is $p = 0.5$.\n",
    "\n",
    "Thus,<br>\n",
    "**null hypothesis:** $H_{0}: \\mu = 10 \\cdot 0.5 = 5$<br>\n",
    "**alternative hypothesis** $H_{a}: \\mu \\ne 5$\n",
    "\n",
    "In order to determine if the null hypothesis should be rejected, we need to calculate a p-value and select a statistical signficance level, the most common is 95% or $\\alpha = 0.05$. This means that only 5% of the time that this experiment is performed are we likely to see values as extreme as those given in the corresponding standard distribution.\n",
    "\n",
    "Since we have a sample of 10 flips and aren't sure what the true population values are for this coin, we apply a t-test where the number of degrees of freedom is $df = N - 1 = 10 - 1 = 9$. We must also compute the t-score to find where the measured value (8 heads) lies on the t-distribution in comparison to our selected significance level.\n",
    "$$ t = \\frac{\\bar{x} - \\Delta}{\\sigma / \\sqrt{N}} = \\frac{8 - 5}{\\sqrt{10 \\cdot 0.5 \\cdot 0.5} / \\sqrt{10}} = \\frac{3}{\\sqrt{0.25}} = 6$$\n",
    "\n",
    "For a t-distribution with $9$ degrees of freedom the critical t-value for a two-tailed test at $\\alpha/2 = 0.025$ is $2.262$. Since the calculated t-value is much greater than the critical value, we can reject the null hypothesis that the coin is fair at a significance of $p<0.05$.\n",
    "\n",
    "***The coin is most likely not fair.***\n",
    "\n",
    "As a side note, the probability of a Binomial distribution returning this result is,\n",
    "$$P(k|n) = {n \\choose k} p^{n}(1-p)^{n-k}$$\n",
    "$$P(8|10) = {10 \\choose 8} (0.5)^{10} (1-0.5)^{10-8} = \\frac{10!}{8!2!}(0.5)^{12} = \\frac{10 \\cdot 9}{2 \\cdot 1}(0.5)^{12} = 1.1\\% $$\n",
    "\n",
    "Since 8 heads is very unlikely to occur for a fair coin, it is probable that the coin is not fair."
   ]
  },
  {
   "cell_type": "markdown",
   "metadata": {},
   "source": [
    "___\n",
    "### How much would you be willing to gamble on a coin flipping game that returns a reward of $1 if heads is flipped and doubles the reward if tails is flipped?"
   ]
  },
  {
   "cell_type": "markdown",
   "metadata": {},
   "source": [
    "**Solution**\n",
    "\n",
    "The amount to gamble is given by the expectation value (mean average). The reward can be represented as $2^{n-1}$ in round $n$.\n",
    "\n",
    "For a single coin flip, the outcomes are \\$1 or continue, each has a probability of occurring of $1/2$, so expected value is $0.5 \\cdot 1$ or **\\$0.50**.\n",
    "\n",
    "For two coin flips, the outcomes are \\$1, \\$1, \\$2 or continue, each has probabilty $1/4$, the expected value is $0.5 \\cdot 1 + 0.25 \\cdot 2$ or **\\$1**.\n",
    "\n",
    "For three coin flips, the outcomes are \\$1, \\$1, \\$1, \\$1, \\$2, \\$2, \\$4, or continue, each has probability $1/8$, and the expectation value is $0.5 \\cdot 1 + 0.25 \\cdot 2 + 0.125 \\cdot 4$ or **\\$1.50**.\n",
    "\n",
    "For four coin flips, the expectation value is **\\$2**.\n",
    "\n",
    "After $n$ rounds, the expectation value is $\\mu = 1+\\frac{n-2}{2}$ (this is a divergent series). This is the amount to gamble. Of course it is not known beforehand how many rounds the game will progress so it is possible to win or lose a substantial amount of money. It depends on the risk tolerance of the individual."
   ]
  },
  {
   "cell_type": "markdown",
   "metadata": {},
   "source": [
    "____\n",
    "### Consider a game where two players take turns flipping a fair coin. If a player gets heads on their turn, they win and the game is over, otherwise they give the coin to the other player who then takes his or her turn. What is the probablility that the player who goes first wins?"
   ]
  },
  {
   "cell_type": "markdown",
   "metadata": {},
   "source": [
    "**Solution**\n",
    "\n",
    "This is an infinite Bernoulli process. Assume player A goes first and player B goes next. Let $A_{k}$ represent the event that player A wins in the *kth* round.\n",
    "\n",
    "$P(A_{1}) = 1/2$ &nbsp;&nbsp;&nbsp; *A flips heads in the first round* <br>\n",
    "$P(A_{2}) = (1/2 \\times 1/2) \\times 1/2$ &nbsp;&nbsp;&nbsp; *A flips tails, B tails, A heads* <br>\n",
    "$P(A_{3}) = (1/2 \\times 1/2) \\times (1/2 \\times 1/2) \\times 1/2$ &nbsp;&nbsp;&nbsp; *A flips tails twice, B tails twice, A heads* <br>\n",
    "$P(A_{k}) = (1/2 \\times 1/2)^{k} \\times 1/2$ &nbsp;&nbsp;&nbsp; *A and B both flip tails k times then A flips heads*\n",
    "\n",
    "Since these events are disjoint, the law of total probability states that the probability of the player A winning is, <br>\n",
    "$P(A) = P(A_{1}) + P(A_{2}) + \\ldots + P(A_{k}) + \\ldots $\n",
    "\n",
    "Written as a summation,<br>\n",
    "$ P(A) = \\sum_{k=1}^{\\infty} (1/2 \\times 1/2)^{k} \\times 1/2$\n",
    "\n",
    "This is clearly the geometric series,<br>\n",
    "$ \\sum_{k=1}^{\\infty} (x)^{k} = \\frac{1}{1-x} $\n",
    "\n",
    "So,<br>\n",
    "$  P(A) = (1/2) \\sum_{k=1}^{\\infty} (1/2 \\times 1/2)^{k} = (1/2) \\times \\frac{1}{1-1/4} = \\frac{1}{2} \\times \\frac{4}{3} = \\frac{2}{3} $"
   ]
  },
  {
   "cell_type": "markdown",
   "metadata": {},
   "source": [
    "### Consider a game where a dye is rolled by each of two players who must then steal that amount of chips from their opponent. The game ends after a round in which the players have an unequal number of chips. If player A has 8 chips and player B has 6 chips, what is the probability that the game ends after n rounds?"
   ]
  },
  {
   "cell_type": "markdown",
   "metadata": {},
   "source": [
    "**Solution**\n",
    "\n",
    "For the first round, the difference in chips is 2 so player B must roll 1 number higher than player A for the game to continue. So the possibilities are (1,2), (2,3), (3,4), (4,5), (5,6), there are 5 out of possible 36 combinations to continue and 31/36 chance the game ends.<br>\n",
    "$P(1) = 31/36$\n",
    "\n",
    "For the second round, both players will have an equal number of chips so the two dice rolls must be unequal, this leads to a probability of 5/6, for the game to continue the probability is 1/6. Factoring in the first round probability, <br>\n",
    "$P(2) = (5/36) \\times (5/6)$\n",
    "\n",
    "For the third round, again both players must have equal number of chips, then the probability becomes, <br>\n",
    "$P(3) = (5/36) \\times (1/6) \\times (5/6) $\n",
    "\n",
    "Generalizing for the second round and beyond $(n \\ge 2)$, <br>\n",
    "$P(n) = (5/36) \\times (1/6)^{n-2} \\times (5/6)$"
   ]
  },
  {
   "cell_type": "markdown",
   "metadata": {},
   "source": [
    "___\n",
    "# Online questions\n",
    "\n",
    "References:<br>\n",
    "[http://www.itshared.org/2015/10/data-science-interview-questions.html](http://www.itshared.org/2015/10/data-science-interview-questions.html)"
   ]
  },
  {
   "cell_type": "markdown",
   "metadata": {},
   "source": [
    "___\n",
    "### What is a *p*-value?"
   ]
  },
  {
   "cell_type": "markdown",
   "metadata": {},
   "source": [
    "A p-value describes the level of significance for which a hypothesis test can or cannot reject the null hypothesis. The smaller the p-value, the stricter the test.\n",
    "\n",
    "For example, if the p-value calculated has $p<0.05$ (the typical standard), then if the experiment were repeated, 5% of the time a value more extreme than this would be observed. The result of the test would be to reject the null hypothesis with a 5% chance that this rejection is incorrect.\n",
    "\n",
    "The p-value is computed (or looked up in a table) based on a test statistic (either $z$ or $t$ depending on if the population standard deviation is known or not) which is in turn typically calculated from the mean and standard deviation."
   ]
  },
  {
   "cell_type": "markdown",
   "metadata": {},
   "source": [
    "___\n",
    "### What is A/B testing? How is it different from usual hypothesis testing?"
   ]
  },
  {
   "cell_type": "markdown",
   "metadata": {},
   "source": [
    "A/B testing is a two-sample hypothesis test. Assuming the values are distributed normally, Welch's t-test for unequal variances can be applied. \n",
    "\n",
    "1. Calculate mean and standard deviation for the A and B groups.\n",
    "1. Use these to compute the test statistic,\n",
    "$$ t = \\frac{\\overline{X}_{1} - \\overline{X}_{2}}{\\sqrt{ \\frac{s_{1}^{2}}{N_{1}^{2}} + \\frac{s_{2}^{2}}{N_{2}^{2}}}} $$\n",
    "1. The degrees of freedom are calculated slightly differently than Student's t-test.\n",
    "1. Look up or calculate the corresponding p-value.\n",
    "1. Compare this value for $p$ against the predetermined significance level (typically $p<0.05$)\n",
    "\n",
    "These statistics can be used to test the null hypothesis that there is no difference between the two samples (two-tail test) or the alternative hypothesis that one of the sample means is greater than or equal to the other (one-tail test).\n",
    "\n",
    "If ***proportions*** are used (such as conversion rates, i.e., signups) then the test statistic becomes,\n",
    "$$ z = \\frac{ \\hat{p_{1}} - \\hat{p_{2}} -\\Delta }{ \\sqrt{\\hat{p}(1-\\hat{p})(\\frac{1}{n_{1}} + \\frac{1}{n_{2}})} }\n",
    "= \\frac{\\hat{d} - \\Delta}{SE} $$\n",
    "where the pooled probability is,\n",
    "$$ \\hat{p} = \\frac{x_{1} + x_{2}}{n_{1} + n_{2}} $$\n",
    "and $p_{1}$ and $p_{2}$ are the sample proportions, $\\Delta$ is the hypothesized difference (0 if testing for equal proportions), $n_{1}$ and $n_{2}$ are sample sizes, and $x_{1}$ and $x_{2}$ is the number of successes in each sample. The z-distribution is used to test the hypothesis."
   ]
  },
  {
   "cell_type": "markdown",
   "metadata": {},
   "source": [
    "___\n",
    "### What is the appropriate sample size for an A/B test?"
   ]
  },
  {
   "cell_type": "markdown",
   "metadata": {},
   "source": [
    "It depends on the desired tolerance for type I and type II errors. Typical values are 5% of time a difference will be detected when it does not exist and 20% of time the minimum effect size will not be detected when it does exist.\n",
    "\n",
    "For two sample proportions and two-sided equality test, assuming the sample size for both groups A and B (or 1 and 2) is the same, the sample size is,\n",
    "$$ n = (\\hat{p_{1}}(1-\\hat{p_{1}}) + \\hat{p_{2}}(1-\\hat{p_{2}}))(\\frac{z_{1-\\alpha/2} + z_{1-\\beta}}{\\hat{p_{1}} - \\hat{p_{2}}}) $$"
   ]
  },
  {
   "cell_type": "markdown",
   "metadata": {},
   "source": [
    "___\n",
    "### What is the central limit theorem?"
   ]
  },
  {
   "cell_type": "markdown",
   "metadata": {},
   "source": [
    "The central limit theorem states that for a sufficiently large sample size, the sampling distribution of the means of these samples is approximately normally distributed even if the underlying population distribution from which these values are sampled is not normally distributed."
   ]
  },
  {
   "cell_type": "markdown",
   "metadata": {},
   "source": [
    "___\n",
    "### What is the law of large numbers?"
   ]
  },
  {
   "cell_type": "markdown",
   "metadata": {},
   "source": [
    "The law of large numbers states that as a random experiment is repeated, the mean value of the results will approach the expected value."
   ]
  }
 ],
 "metadata": {
  "kernelspec": {
   "display_name": "Python 3",
   "language": "python",
   "name": "python3"
  },
  "language_info": {
   "codemirror_mode": {
    "name": "ipython",
    "version": 3
   },
   "file_extension": ".py",
   "mimetype": "text/x-python",
   "name": "python",
   "nbconvert_exporter": "python",
   "pygments_lexer": "ipython3",
   "version": "3.5.1"
  }
 },
 "nbformat": 4,
 "nbformat_minor": 0
}
