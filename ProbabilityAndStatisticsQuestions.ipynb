{
 "cells": [
  {
   "cell_type": "markdown",
   "metadata": {},
   "source": [
    "# Suggested Approach for Probability\n",
    "\n",
    "1. Draw probability trees (if needed) and fill in probability values for events, conditionals, and intersections.\n",
    "1. Determine which is the missing value\n",
    "1. Examine causality to determine if Bayes rule is applicable"
   ]
  },
  {
   "cell_type": "markdown",
   "metadata": {},
   "source": [
    "# Phone Interview Questions\n",
    "\n",
    "### References\n",
    "\n",
    "1. https://www.countbayesie.com/blog/2015/3/3/6-amazing-trick-with-monte-carlo-simulations\n"
   ]
  },
  {
   "cell_type": "markdown",
   "metadata": {},
   "source": [
    "___\n",
    "### A coin is flipped 10 times resulting in 8 heads and 2 tails. Is the coin fair?"
   ]
  },
  {
   "cell_type": "markdown",
   "metadata": {},
   "source": [
    "**Solution**\n",
    "\n",
    "This requires hypothesis testing. Assign *null hypothesis* to be that the coin is fair, *alternative hypothesis* is coin is unfair.\n",
    "\n",
    "The flips of a fair coin follow a binomial distribution which has **average** $\\mu = N \\cdot p$ and **standard deviation** $\\sigma = \\sqrt{N \\cdot p (1-p)}$. The probability of heads occurring is $p = 0.5$.\n",
    "\n",
    "Thus,<br>\n",
    "**null hypothesis:** $H_{0}: \\mu = 10 \\cdot 0.5 = 5$<br>\n",
    "**alternative hypothesis** $H_{a}: \\mu \\ne 5$\n",
    "\n",
    "In order to determine if the null hypothesis should be rejected, we need to calculate a p-value and select a statistical signficance level, the most common is 95% or $\\alpha = 0.05$. This means that only 5% of the time that this experiment is performed are we likely to see values as extreme as those given in the corresponding standard distribution.\n",
    "\n",
    "Since we have a sample of 10 flips and aren't sure what the true population values are for this coin, we apply a t-test where the number of degrees of freedom is $df = N - 1 = 10 - 1 = 9$. We must also compute the t-score to find where the measured value (8 heads) lies on the t-distribution in comparison to our selected significance level.\n",
    "$$ t = \\frac{\\bar{x} - \\Delta}{\\sigma / \\sqrt{N}} = \\frac{8 - 5}{\\sqrt{10 \\cdot 0.5 \\cdot 0.5} / \\sqrt{10}} = \\frac{3}{\\sqrt{0.25}} = 6$$\n",
    "\n",
    "For a t-distribution with $9$ degrees of freedom the critical t-value for a two-tailed test at $\\alpha/2 = 0.025$ is $2.262$. Since the calculated t-value is much greater than the critical value, we can reject the null hypothesis that the coin is fair at a significance of $p<0.05$.\n",
    "\n",
    "***The coin is most likely not fair.***\n",
    "\n",
    "As a side note, the probability of a Binomial distribution returning this result is,\n",
    "$$P(k|n) = {n \\choose k} p^{n}(1-p)^{n-k}$$\n",
    "$$P(8|10) = {10 \\choose 8} (0.5)^{10} (1-0.5)^{10-8} = \\frac{10!}{8!2!}(0.5)^{12} = \\frac{10 \\cdot 9}{2 \\cdot 1}(0.5)^{12} = 1.1\\% $$\n",
    "\n",
    "Since 8 heads is very unlikely to occur for a fair coin, it is probable that the coin is not fair."
   ]
  },
  {
   "cell_type": "markdown",
   "metadata": {},
   "source": [
    "___\n",
    "### How much would you be willing to gamble on a coin flipping game that returns a reward of $1 if heads is flipped and doubles the reward if tails is flipped?"
   ]
  },
  {
   "cell_type": "markdown",
   "metadata": {},
   "source": [
    "**Solution**\n",
    "\n",
    "The amount to gamble is given by the expectation value (mean average).\n",
    "\n",
    "For a single coin flip, the outcomes are \\$1 or continue, each has a probability of occurring of $1/2$, so expected value is $0.5 \\cdot 1$ or **\\$0.50**.\n",
    "\n",
    "For two coin flips, the outcomes are \\$1, \\$1, \\$2 or continue, each has probabilty $1/4$, the expected value is $0.5 \\cdot 1 + 0.25 \\cdot 2$ or **\\$1**.\n",
    "\n",
    "For three coin flips, the outcomes are \\$1, \\$1, \\$1, \\$1, \\$2, \\$2, \\$4, or continue, each has probability $1/8$, and the expectation value is $0.5 \\cdot 1 + 0.25 \\cdot 2 + 0.125 \\cdot 4$ or **\\$1.50**.\n",
    "\n",
    "For four coin flips, the expectation value is **\\$2**.\n",
    "\n",
    "After $n$ rounds, the expectation value is $\\mu = 1+\\frac{n-2}{2}$ (this is a divergent series). This is the amount to gamble. Of course it is not known beforehand how many rounds the game will progress so it is possible to win or lose a substantial amount of money. It depends on the risk tolerance of the individual."
   ]
  },
  {
   "cell_type": "markdown",
   "metadata": {},
   "source": [
    "____\n",
    "### Consider a game where two players take turns flipping a fair coin. If a player gets heads on their turn, they win and the game is over, otherwise they give the coin to the other player who then takes his or her turn. What is the probablility that the player who goes first wins?"
   ]
  },
  {
   "cell_type": "markdown",
   "metadata": {},
   "source": [
    "**Solution**\n",
    "\n",
    "This is an infinite Bernoulli process. Assume player A goes first and player B goes next. Let $A_{k}$ represent the event that player A wins in the *kth* round.\n",
    "\n",
    "$P(A_{1}) = 1/2$ &nbsp;&nbsp;&nbsp; *A flips heads in the first round* <br>\n",
    "$P(A_{2}) = (1/2 \\times 1/2) \\times 1/2$ &nbsp;&nbsp;&nbsp; *A flips tails, B tails, A heads* <br>\n",
    "$P(A_{3}) = (1/2 \\times 1/2) \\times (1/2 \\times 1/2) \\times 1/2$ &nbsp;&nbsp;&nbsp; *A flips tails twice, B tails twice, A heads* <br>\n",
    "$P(A_{k}) = (1/2 \\times 1/2)^{k} \\times 1/2$ &nbsp;&nbsp;&nbsp; *A and B both flip tails k times then A flips heads*\n",
    "\n",
    "Since these events are disjoint, the law of total probability states that the probability of the player A winning is, <br>\n",
    "$P(A) = P(A_{1}) + P(A_{2}) + \\ldots + P(A_{k}) + \\ldots $\n",
    "\n",
    "Written as a summation,<br>\n",
    "$ P(A) = \\sum_{k=1}^{\\infty} (1/2 \\times 1/2)^{k} \\times 1/2$\n",
    "\n",
    "This is clearly the geometric series,<br>\n",
    "$ \\sum_{k=1}^{\\infty} (x)^{k} = \\frac{1}{1-x} $\n",
    "\n",
    "So,<br>\n",
    "$  P(A) = (1/2) \\sum_{k=1}^{\\infty} (1/2 \\times 1/2)^{k} = (1/2) \\times \\frac{1}{1-1/4} = \\frac{1}{2} \\times \\frac{4}{3} = \\frac{2}{3} $"
   ]
  },
  {
   "cell_type": "markdown",
   "metadata": {},
   "source": [
    "### Consider a game where a dye is rolled by each of two players who must then steal that amount of chips from their opponent. The game ends after a round in which the players have an unequal number of chips. If player A has 8 chips and player B has 6 chips, what is the probability that the game ends after n rounds?"
   ]
  },
  {
   "cell_type": "markdown",
   "metadata": {},
   "source": [
    "**Solution**\n",
    "\n",
    "For the first round, the difference in chips is 2 so player B must roll 1 number higher than player A for the game to continue. So the possibilities are (1,2), (2,3), (3,4), (4,5), (5,6), there are 5 out of possible 36 combinations to continue and 31/36 chance the game ends.<br>\n",
    "$P(1) = 31/36$\n",
    "\n",
    "For the second round, both players will have an equal number of chips so the two dice rolls must be unequal, this leads to a probability of 5/6, for the game to continue the probability is 1/6. Factoring in the first round probability, <br>\n",
    "$P(2) = (5/36) \\times (5/6)$\n",
    "\n",
    "For the third round, again both players must have equal number of chips, then the probability becomes, <br>\n",
    "$P(3) = (5/36) \\times (1/6) \\times (5/6) $\n",
    "\n",
    "Generalizing for the second round and beyond $(n \\ge 2)$, <br>\n",
    "$P(n) = (5/36) \\times (1/6)^{n-2} \\times (5/6)$"
   ]
  },
  {
   "cell_type": "markdown",
   "metadata": {},
   "source": [
    "---\n",
    "\n",
    "### What is the probability of drawing 3 cards from a standard deck and have all of them not be hearts or not be kings?"
   ]
  },
  {
   "cell_type": "markdown",
   "metadata": {},
   "source": [
    "There are three events sampling from the same deck without replacement. For each card drawn, calculate the probability based on the current deck and multiply the values together.\n",
    "\n",
    "For the first card, there are 13 hearts (including the king) and 3 other kings so $ P = \\frac{52-(13+3)}{52} \n",
    "= \\frac{36}{52} $\n",
    "\n",
    "For the second card there is one less possible not heart and not king and one fewer cards so $ P = \\frac{51-16}{51} = \\frac{35}{51} $\n",
    "\n",
    "For the third card there is one less possible not heart and not king and one fewer cards so $ P = \\frac{50-16}{50} = \\frac{34}{50} $\n",
    "\n",
    "The final answer is,\n",
    "$$ P = \\frac{36}{52} \\cdot \\frac{35}{51} \\cdot \\frac{34}{50} $$\n",
    "\n"
   ]
  },
  {
   "cell_type": "markdown",
   "metadata": {},
   "source": [
    "---\n",
    "### Draw 2 cards from a standard deck, given that they are both red, what is the probability they are both queens?"
   ]
  },
  {
   "cell_type": "markdown",
   "metadata": {},
   "source": [
    "Simplest solution, only consider the subset of cards that are red (26 out of 52),\n",
    "\n",
    "$$ P(Q1 \\cap R1) = \\frac{2}{26}, \\quad P(Q2 \\cap R2) = \\frac{1}{25}, \\quad  P = \\frac{2}{26} \\cdot \\frac{1}{25} $$"
   ]
  },
  {
   "cell_type": "markdown",
   "metadata": {},
   "source": [
    "___\n",
    "# Online Statistics and General Probability Questions\n",
    "\n",
    "### References\n",
    "\n",
    "http://www.itshared.org/2015/10/data-science-interview-questions.html\n",
    "\n",
    "http://www.dartmouth.edu/~chance/teaching_aids/books_articles/probability_book/amsbook.mac.pdf\n",
    "\n",
    "https://www.careercup.com/page?pid=probability-interview-questions"
   ]
  },
  {
   "cell_type": "markdown",
   "metadata": {},
   "source": [
    "___\n",
    "### What is a *p*-value?"
   ]
  },
  {
   "cell_type": "markdown",
   "metadata": {},
   "source": [
    "A p-value describes the level of significance for which a hypothesis test can or cannot reject the null hypothesis. The smaller the p-value, the stricter the test.\n",
    "\n",
    "For example, if the p-value calculated has $p<0.05$ (the typical standard), then if the experiment were repeated, 5% of the time a value more extreme than this would be observed. The result of the test would be to reject the null hypothesis with a 5% chance that this rejection is incorrect.\n",
    "\n",
    "The p-value is computed (or looked up in a table) based on a test statistic (either $z$ or $t$ depending on if the population standard deviation is known or not) which is in turn typically calculated from the mean and standard deviation."
   ]
  },
  {
   "cell_type": "markdown",
   "metadata": {},
   "source": [
    "___\n",
    "### What is A/B testing? How is it different from usual hypothesis testing?"
   ]
  },
  {
   "cell_type": "markdown",
   "metadata": {},
   "source": [
    "A/B testing is a two-sample hypothesis test. Assuming the values are distributed normally, Welch's t-test for unequal variances can be applied. \n",
    "\n",
    "1. Calculate mean and standard deviation for the A and B groups.\n",
    "1. Use these to compute the test statistic,\n",
    "$$ t = \\frac{\\overline{X}_{1} - \\overline{X}_{2}}{\\sqrt{ \\frac{s_{1}^{2}}{N_{1}^{2}} + \\frac{s_{2}^{2}}{N_{2}^{2}}}} $$\n",
    "1. The degrees of freedom are calculated slightly differently than Student's t-test.\n",
    "1. Look up or calculate the corresponding p-value.\n",
    "1. Compare this value for $p$ against the predetermined significance level (typically $p<0.05$)\n",
    "\n",
    "These statistics can be used to test the null hypothesis that there is no difference between the two samples (two-tail test) or the alternative hypothesis that one of the sample means is greater than or equal to the other (one-tail test).\n",
    "\n",
    "If ***proportions*** are used (such as conversion rates, i.e., signups) then the test statistic becomes,\n",
    "$$ z = \\frac{ \\hat{p_{1}} - \\hat{p_{2}} -\\Delta }{ \\sqrt{\\hat{p}(1-\\hat{p})(\\frac{1}{n_{1}} + \\frac{1}{n_{2}})} }\n",
    "= \\frac{\\hat{d} - \\Delta}{SE} $$\n",
    "where the pooled probability is,\n",
    "$$ \\hat{p} = \\frac{x_{1} + x_{2}}{n_{1} + n_{2}} $$\n",
    "and $p_{1}$ and $p_{2}$ are the sample proportions, $\\Delta$ is the hypothesized difference (0 if testing for equal proportions), $n_{1}$ and $n_{2}$ are sample sizes, and $x_{1}$ and $x_{2}$ is the number of successes in each sample. The z-distribution is used to test the hypothesis."
   ]
  },
  {
   "cell_type": "markdown",
   "metadata": {},
   "source": [
    "___\n",
    "### What is the appropriate sample size for an A/B test?"
   ]
  },
  {
   "cell_type": "markdown",
   "metadata": {},
   "source": [
    "It depends on the desired tolerance for type I and type II errors. Typical values are 5% of time a difference will be detected when it does not exist and 20% of time the minimum effect size will not be detected when it does exist.\n",
    "\n",
    "For two sample proportions and two-sided equality test, assuming the sample size for both groups A and B (or 1 and 2) is the same, the sample size is,\n",
    "$$ n = (\\hat{p_{1}}(1-\\hat{p_{1}}) + \\hat{p_{2}}(1-\\hat{p_{2}}))(\\frac{z_{1-\\alpha/2} + z_{1-\\beta}}{\\hat{p_{1}} - \\hat{p_{2}}}) $$"
   ]
  },
  {
   "cell_type": "markdown",
   "metadata": {},
   "source": [
    "___\n",
    "### What is the central limit theorem?"
   ]
  },
  {
   "cell_type": "markdown",
   "metadata": {},
   "source": [
    "The central limit theorem states that for a sufficiently large sample size, the sampling distribution of the means of these samples is approximately normally distributed even if the underlying population distribution from which these values are sampled is not normally distributed.\n",
    "\n",
    "This allows us to apply many statistical tests and methods (that require normally-distributed variables) even if the underlying population distribution is not normal."
   ]
  },
  {
   "cell_type": "markdown",
   "metadata": {},
   "source": [
    "___\n",
    "### What is the law of large numbers?"
   ]
  },
  {
   "cell_type": "markdown",
   "metadata": {},
   "source": [
    "The law of large numbers states that as a random experiment is repeated, the mean value of the results will approach the expected value."
   ]
  },
  {
   "cell_type": "markdown",
   "metadata": {},
   "source": [
    "---\n",
    "\n",
    "### How many people do we need to have in a room to make it a favorable bet (probability of success greater than 1/2) that two people in the room will have the same birthday?"
   ]
  },
  {
   "cell_type": "markdown",
   "metadata": {},
   "source": [
    "Start by considering the probability of non-duplicate birthdays out of all the possible birthdays.\n",
    "\n",
    "For a room of 2 people, what is the probability of no duplicates? So person 1 has a birthday on a certain day that can be any of $365$ days and person 2 has a birthday on a different day so the possible non-duplicate dates are $(365-1)/365$. This is the subset of total possible birthdays which includes duplicates, so for person 1 there are $365$ and person 2 again $365$ and the total is $365 \\times 365 = 365^2$.\n",
    "\n",
    "What about a room of 3 people with no duplicates? Person 1 has a birthday on a certain day, person 2 has a birthday on a different date $364/365$ then person 3 cannot share a birthday with the others so $363/365$. Then for the $r$th person, the possible non-duplicate dates are $365-r+1$ out of $365^r$ possible dates.\n",
    "\n",
    "Generalizing to $r$ people then, we have, $$p_r = \\frac{365 \\cdot 364 \\cdot (365-r+1)}{365^r}$$\n",
    "\n",
    "To reach favorable odds then, only $r=23$ people are needed."
   ]
  },
  {
   "cell_type": "markdown",
   "metadata": {},
   "source": [
    "---\n",
    "### A candidate is selected for 3 interviews. The number of candidates are 3,4,2 for each of the three interviews. What is the probability of getting at least one post?"
   ]
  },
  {
   "cell_type": "markdown",
   "metadata": {},
   "source": [
    "The probability of getting at least one is the complement of getting none,\n",
    "$$ (1-P) = (1-1/3) \\times (1-1/4) \\times (1-1/2) = 2/3 \\times 3/4 \\times 1/2 = 6/24 $$\n",
    "$$ P = 1 - 1/4 = 3/4 $$"
   ]
  },
  {
   "cell_type": "markdown",
   "metadata": {},
   "source": [
    "---\n",
    "### A drawer contains 6 pairs of white socks and 6 pairs of black socks. What is the probability to randomly select to socks that are the same color?"
   ]
  },
  {
   "cell_type": "markdown",
   "metadata": {},
   "source": [
    "There are 12 white socks and 12 black socks total and what we are looking for is $P(same)=P(W,W) + P(B,B)$.\n",
    "$$ P(W,W) = 12/24 \\times 11/23 $$\n",
    "$$ P(B,B) = 12/24 \\times 11/23 $$\n",
    "\n",
    "$$ P(same) = 2 \\times 12/24 \\times 11/23 = 11/23 $$"
   ]
  },
  {
   "cell_type": "markdown",
   "metadata": {},
   "source": [
    "---\n",
    "### The probability of a bus passing through a certain intersection in a time window of 20 minutes is 0.9. What is the probability of the same bus passing the same interesection in 5 minutes?"
   ]
  },
  {
   "cell_type": "markdown",
   "metadata": {},
   "source": [
    "This situation is given by the exponential distribution (exponential(t)). However solving this problem does not require knowledge of the distribution, instead we can rephrase this as the complementary probability that the bus did not show in the 20 minute window and thus did not show in any of the 5 minute windows.\n",
    "\n",
    "$$ 1 - P(20) = 1 - 0.9 = (1 - P(5)) \\cdot (1 - P(5)) \\cdot (1 - P(5)) \\cdot (1 - P(5)) $$\n",
    "\n",
    "$$ 1-P(5) = 0.1^{1/4} $$\n",
    "\n",
    "So $P(5)$ is,"
   ]
  },
  {
   "cell_type": "code",
   "execution_count": 2,
   "metadata": {
    "collapsed": false
   },
   "outputs": [
    {
     "data": {
      "text/plain": [
       "0.4376586748096509"
      ]
     },
     "execution_count": 2,
     "metadata": {},
     "output_type": "execute_result"
    }
   ],
   "source": [
    "1-0.1**0.25"
   ]
  },
  {
   "cell_type": "markdown",
   "metadata": {},
   "source": [
    "---\n",
    "### 10 passengers get on an airport shuttle at the airport. The shuttle has a route that includes 5 hotels, and each passenger gets off the shuttle at his/her hotel. The driver records how many passengers leave the shuttle at each hotel. How many different possibilities exist?"
   ]
  },
  {
   "cell_type": "markdown",
   "metadata": {},
   "source": [
    "There are 5 hotels and we need to select them 10 times (once for each passenger) so here $n=5$ and $k=10$ (note that $k>n$ is possible if selection with replacement is allowed).\n",
    "\n",
    "So the number of possibilities is,\n",
    "$$ {n+k-1\\choose{k}} = \\frac{(n+k-1)!}{k! \\cdot (n+k-1-k)!} = \\frac{5+10-1!}{10! \\cdot (5-1)!} = \\frac{14!}{10! \\cdot 4!} = \n",
    "\\frac{14 \\cdot 13 \\cdot 12 \\cdot 11}{24}$$"
   ]
  },
  {
   "cell_type": "code",
   "execution_count": 5,
   "metadata": {
    "collapsed": false
   },
   "outputs": [
    {
     "name": "stdout",
     "output_type": "stream",
     "text": [
      "1001\n",
      "1001\n"
     ]
    }
   ],
   "source": [
    "from scipy.special import comb\n",
    "\n",
    "print(14*13*12*11//24)\n",
    "print(comb(5,10,exact=True,repetition=True))"
   ]
  },
  {
   "cell_type": "markdown",
   "metadata": {},
   "source": [
    "---\n",
    "\n",
    "http://www.crazyforcode.com/3-baskets-4-balls-puzzle/\n",
    "\n",
    "### You have 3 baskets and each basket contains exactly 4 balls; each ball is of the same size. Each ball is either red, black, yellow, or orange, and there is one of each color in each basket. If you randomly draw 1 ball from each basket, what is the chance that you would have exactly 2 red balls?"
   ]
  },
  {
   "cell_type": "markdown",
   "metadata": {},
   "source": [
    "The question asks for the probability of obtaining {R,R,X} where X can be any color except red, thus there are 3 possible combinations and we can have a red from 2 of the 3 baskets ({R,X,R} and {X,R,R} are also possible) so the total is $3 \\times 3 = 9$. All of the possible combinations are $4 \\times 4 \\times 4 = 64$.\n",
    "\n",
    "So the answer is $9/64$.\n",
    "\n",
    "Could also solve with the binomial theorem by recognizing that $n=3$ (3 balls are in the final sample, colors without replacement), $k=2$ (want to select 2 of those that are red), and $p=1/4$ (the probability that each of the colors of the original balls are red). Then,\n",
    "$$ P = \\frac{3!}{1! \\cdot 2!} \\ (1/4)^2 \\ (1-1/4)^1 = 3 \\cdot 1/16 \\cdot 3/4 = 9/64 $$"
   ]
  },
  {
   "cell_type": "markdown",
   "metadata": {},
   "source": [
    "# Online Conditional Probability Questions\n",
    "\n",
    "### References\n",
    "\n",
    "https://www.probabilitycourse.com/"
   ]
  },
  {
   "cell_type": "markdown",
   "metadata": {},
   "source": [
    "---\n",
    "\n",
    "### The manual states that the lifetime $T$ of a product, defined as the amount of time (in years) the product works properly until it breaks down, satisfies $P(T \\ge t) = e^{-t/5}$ for all $t>0$. If the product is used for two years without any problem, what is the probability it breaks in the third year?"
   ]
  },
  {
   "cell_type": "markdown",
   "metadata": {},
   "source": [
    "Looking for conditional probability that product breaks in year 3 given that that it has not broken down in year 2. Breaking in the third year is the intersection of breaking after 2 years and breaking after 3 years. Then applying the conditional probability rule,\n",
    "\n",
    "$$ P(3|2) = \\frac{P(3 \\cap 2)}{P(2)} = \\frac{e^{-2/5}-e^{-3/5}}{e^{-2/5}} = 0.1813 $$"
   ]
  },
  {
   "cell_type": "markdown",
   "metadata": {},
   "source": [
    "---\n",
    "### In my town, it's rainy one third of the days. Given that it is rainy, there will be heavy traffic with probability 1/2, and given that it is not rainy, there will be heavy traffic with probability 1/4. If it's rainy and there is heavy traffic, I arrive late for work with probability 1/2. On the other hand, the probability of being late is reduced to 1/8 if it is not rainy and there is no heavy traffic. In other situations (rainy and no traffic, not rainy and traffic) the probability of being late is 1/4. You pick a random day.\n",
    "\n",
    "#### What is the probability that it's not raining and there is heavy traffic and I am not late?\n",
    "#### What is the probability that I am late?\n",
    "#### Given that I arrived late at work, what is the probability that it rained that day?"
   ]
  },
  {
   "cell_type": "markdown",
   "metadata": {},
   "source": [
    "$$ P(rain) = 1/3 $$\n",
    "$$ P(traffic|rain) = 1/2 $$\n",
    "$$ P(traffic|no \\ rain) = 1/4 $$\n",
    "$$ P(late|traffic \\ and \\ rain) = 1/2 $$\n",
    "$$ P(late |no \\ traffic \\ and \\ no \\ rain) = 1/8 $$\n",
    "$$ P(late | traffic \\ or \\ rain ) = 1/4 $$"
   ]
  },
  {
   "cell_type": "markdown",
   "metadata": {},
   "source": [
    "First construct 3-level decision tree that preserves causal relationship (rain leads to traffic leads to being late).\n",
    "\n",
    "To find $ P(late^c \\cap rain^c \\cap \\ traffic) $,\n",
    "$$ P = 3/4 \\cdot 1/4 \\cdot 2/3 = 1/8 $$\n",
    "\n",
    "To find probability of being late sum up all 4 outcomes (out of 8) that include the event where the person is late,\n",
    "$$ P(late) = 1/12 + 1/24 + 1/24 + 1/16 = 4/48 + 2/48 + 2/48 + 3/48 = 11/48 $$\n",
    "\n",
    "To find this probability use the rule for conditional probability,\n",
    "$$ P(rain|late) = \\frac{P(rain \\cap late)}{P(late)} = \\frac{1/12 + 1/24}{11/48} $$\n",
    "$$ = \\frac{1/8}{11/48} = \\frac{6}{11} $$"
   ]
  },
  {
   "cell_type": "markdown",
   "metadata": {},
   "source": [
    "---\n",
    "### A box contains three coins: two regular coins and one fake two-headed coin\n",
    "\n",
    "#### You pick a coin at random and toss it. What is the probability that it lands heads up?\n",
    "#### You pick a coin at random and toss it, and get heads. What is the probability that it is the two-headed coin?"
   ]
  },
  {
   "cell_type": "markdown",
   "metadata": {},
   "source": [
    "The flipped coin can be either one or two headed, from the law of total probability,\n",
    "$$ P(H) = P(H|1head) \\cdot P(1head) + P(H|2head) \\cdot P(2head) = 1/2 \\cdot 2/3 + 1 \\cdot 1/3 = 2/3  $$\n",
    "\n",
    "The probability of selecting the 2head coin having seen heads can be calculated from Bayes rule,\n",
    "$$ P(2head|H) = \\frac{P(H|2head) \\cdot P(2head)}{P(H)} = 1 \\cdot (1/3) / (2/3) = 1/2 $$"
   ]
  },
  {
   "cell_type": "markdown",
   "metadata": {},
   "source": [
    "---\n",
    "\n",
    "### Suppose there are two full bowls of cookies. Bowl #1 has 10 chocolate chip and 30 plain cookies, while bowl #2 has 20 of each. Our friend Fred picks a bowl at random, and then picks a cookie at random. We may assume there is no reason to believe Fred treats one bowl differently from another, likewise for the cookies. The cookie turns out to be a plain one. How probable is it that Fred picked it out of bowl #1?"
   ]
  },
  {
   "cell_type": "markdown",
   "metadata": {},
   "source": [
    "The goal is to determine $P(bowl1|plain)$.\n",
    "\n",
    "From drawing a probability tree, the first split is on the bowl, each has an equal probability so $P(1) = 1/2$ and $P(2) = 1/2$.\n",
    "\n",
    "Then each bowl is split on cookie type with $P(plain|1)=3/4$ and $P(plain|2)$. Since $P(plain|1)$ is known and the questions is asking for $P(1|plain)$ clearly we need **Bayes rule** (to find the reverse causal relationship).\n",
    "\n",
    "The total probability of selecting a plain cookie is,\n",
    "$$ P(plain) = P(plain|1) \\cdot P(1) + P(plain|2) \\cdot P(2) = 3/4 \\cdot 1/2 + 1/2 \\cdot 1/2 = 5/8 $$\n",
    "\n",
    "Then using Bayes rule,\n",
    "$$ P(1|plain) = \\frac{P(plain|1) \\cdot P(1)}{P(plain)} = \\frac{3/4 \\cdot 1/2}{5/8} = 3/5 $$"
   ]
  },
  {
   "cell_type": "markdown",
   "metadata": {},
   "source": [
    "### I toss a coin repeatedly. The coin is unfair and P(H)=p. The game ends the first time that two consecutive heads (HH) or two consecutive tails (TT) are observed. I win if HH is observed and lose if TT is observed. For example if the outcome is HTHTT, I lose. On the other hand, if the outcome is THTHTHH, I win. Find the probability that I win."
   ]
  },
  {
   "cell_type": "markdown",
   "metadata": {},
   "source": [
    "For the first coin toss, it is not possible to win or lose.\n",
    "\n",
    "For the second coin toss, to win, $P(HH) = p \\cdot p$.\n",
    "\n",
    "For the third coin toss, to win, $ P(THH) = (1-p) \\cdot p \\cdot p$.\n",
    "\n",
    "For the fourth coin toss, there is only one possibility $P(HTHH) = p \\cdot (1-p) \\cdot p \\cdot p$.\n",
    "\n",
    "For the fifth coin toss, $P(THTHH) = (1-p) \\cdot p \\cdot (1-p) \\cdot p \\cdot p$.\n",
    "\n",
    "Putting it together and letting $q = 1-p$, the total probability of a win is,\n",
    "$$ P = p^2 + qp^2 + qp^3 + q^2p^3 = p^2(1+q)(1 + qp + ...)$$\n",
    "\n",
    "Using the geometric series identity,\n",
    "$$ P = p^2(1+q) \\frac{1}{1-qp} = \\frac{p^2(2-p)}{1-p+p^2}$$"
   ]
  },
  {
   "cell_type": "markdown",
   "metadata": {},
   "source": [
    "---\n",
    "\n",
    "http://stats.stackexchange.com/questions/86015/amazon-interview-question-probability-of-2nd-interview\n",
    "\n",
    "### If you feel that you had a good first interview, what is the probability you will receive a second interview? Given that:\n",
    "- 50% of all people who receive a first interview receive a second interview\n",
    "- 95% of your friends that got a second interview felt they had a good first interview\n",
    "- 75% of your friends that DID NOT get a second interview felt they had a good first interview"
   ]
  },
  {
   "cell_type": "markdown",
   "metadata": {},
   "source": [
    "Build probability where first split is pass/fail first interview to receive 2nd, next split is felt good/not good. Then using Bayes rule we want to calculate,\n",
    "$$ P(2nd|good) = \\frac{P(good|2nd) \\cdot P(2nd)}{P(good)} = \\frac{0.95 \\cdot 0.5}{0.5 \\cdot 0.95 + 0.5 \\cdot 0.75} $$"
   ]
  },
  {
   "cell_type": "code",
   "execution_count": 6,
   "metadata": {
    "collapsed": false
   },
   "outputs": [
    {
     "data": {
      "text/plain": [
       "0.5588235294117647"
      ]
     },
     "execution_count": 6,
     "metadata": {},
     "output_type": "execute_result"
    }
   ],
   "source": [
    "(0.95*0.5)/(0.5*0.95 + 0.5*0.75)"
   ]
  }
 ],
 "metadata": {
  "kernelspec": {
   "display_name": "Python 3",
   "language": "python",
   "name": "python3"
  },
  "language_info": {
   "codemirror_mode": {
    "name": "ipython",
    "version": 3
   },
   "file_extension": ".py",
   "mimetype": "text/x-python",
   "name": "python",
   "nbconvert_exporter": "python",
   "pygments_lexer": "ipython3",
   "version": "3.5.1"
  }
 },
 "nbformat": 4,
 "nbformat_minor": 0
}
